{
 "cells": [
  {
   "cell_type": "markdown",
   "id": "20ca8190",
   "metadata": {
    "id": "20ca8190"
   },
   "source": [
    "\n",
    "# Python File Handling\n",
    "\n"
   ]
  },
  {
   "cell_type": "markdown",
   "id": "3a0c3be4",
   "metadata": {
    "id": "3a0c3be4"
   },
   "source": [
    "\n",
    "## Table of Contents\n",
    "1. [Why `with open()`?](#why-with-open)\n",
    "2. [Reading Text Files](#reading-text-files)\n",
    "3. [Writing Text Files](#writing-text-files)\n",
    "4. [CSV Files: Read & Write (built-in `csv` module)](#csv-files)\n",
    "5. [Encodings 101 (UTF‑8, errors, BOM)](#encodings)\n",
    "6. [Mini Exercises](#exercises)\n",
    "7. [Common Pitfalls & Tips](#pitfalls)\n"
   ]
  },
  {
   "cell_type": "markdown",
   "id": "1d77b497",
   "metadata": {
    "id": "1d77b497"
   },
   "source": [
    "\n",
    "## 1. Why `with open()`? <a id=\"why-with-open\"></a>\n",
    "\n",
    "`with open(path, mode, encoding=...) as f:` is the **safest** way to work with files.\n",
    "\n",
    "- It **automatically closes** the file, even if an error occurs.\n",
    "- It limits the file object's lifetime to the `with` block, reducing bugs.\n",
    "- It makes your code shorter and clearer.\n",
    "\n",
    "**Common modes:**\n",
    "- `'r'` – read (default), error if file does not exist\n",
    "- `'w'` – write (create/overwrite)\n",
    "- `'a'` – append (create if missing)\n",
    "- `'x'` – create (error if exists)\n",
    "- add `'b'` for binary (e.g., `'rb'`, `'wb'`)\n",
    "\n",
    "**Always set an encoding for text files (e.g., `encoding='utf-8'`).**\n"
   ]
  },
  {
   "cell_type": "markdown",
   "id": "6ac5fce9",
   "metadata": {
    "id": "6ac5fce9"
   },
   "source": [
    "## Reading Text Files\n",
    "\n",
    "Text files store **human-readable data** such as letters, numbers, and symbols.  \n",
    "Python provides several methods to read them:\n",
    "\n",
    "- **`.read()`** → Reads the **entire file** as one string.  \n",
    "- **`.readline()`** → Reads the **next single line**.  \n",
    "- **`for line in file:`** → Iterates **line by line** (best for large files).  \n",
    "- **`.readlines()`** → Reads all lines into a **list of strings**.\n",
    "\n",
    "### When to use what\n",
    "- `.read()` → Small files, when you need all content at once.  \n",
    "- `.readline()` → Step through a file gradually.  \n",
    "- `for line in file` → Efficient for large files or logs.  \n",
    "- `.readlines()` → Quick random access to multiple lines.\n"
   ]
  },
  {
   "cell_type": "code",
   "execution_count": null,
   "id": "589a68c4",
   "metadata": {
    "id": "589a68c4"
   },
   "outputs": [],
   "source": [
    "# Setup: create a sample text file\n",
    "from pathlib import Path\n",
    "\n",
    "data_dir = Path('/mnt/data')\n",
    "data_dir.mkdir(exist_ok=True)\n",
    "sample_txt = data_dir / 'sample.txt'\n",
    "\n",
    "lines = [\n",
    "    \"Hello, world!\\n\",\n",
    "    \"This is a sample file.\\n\",\n",
    "    \"Python makes file handling easy.\\n\",\n",
    "    \"Accented: café, naïve, jalapeño\\n\",\n",
    "]\n",
    "\n",
    "with open(sample_txt, 'w', encoding='utf-8') as f:\n",
    "    f.writelines(lines)\n",
    "\n",
    "sample_txt, sample_txt.exists()"
   ]
  },
  {
   "cell_type": "markdown",
   "id": "bf4bfdbe",
   "metadata": {
    "id": "bf4bfdbe"
   },
   "source": [
    "\n",
    "### 2.1 Read the whole file with `.read()`\n",
    "Use when the file is small enough to fit in memory.\n"
   ]
  },
  {
   "cell_type": "code",
   "execution_count": null,
   "id": "25c46a3c",
   "metadata": {
    "id": "25c46a3c"
   },
   "outputs": [],
   "source": [
    "with open(sample_txt, 'r', encoding='utf-8') as f:\n",
    "    content = f.read()\n",
    "\n",
    "print(\"Type:\", type(content))\n",
    "print(\"--- File contents ---\")\n",
    "print(content)"
   ]
  },
  {
   "cell_type": "markdown",
   "id": "ad47f10e",
   "metadata": {
    "id": "ad47f10e"
   },
   "source": [
    "\n",
    "### 2.2 Read line-by-line with `.readline()` or iterate\n",
    "Use this when you want to process one line at a time.\n"
   ]
  },
  {
   "cell_type": "code",
   "execution_count": null,
   "id": "00cf1543",
   "metadata": {
    "id": "00cf1543"
   },
   "outputs": [],
   "source": [
    "# Using a loop\n",
    "with open(sample_txt, 'r', encoding='utf-8') as f:\n",
    "    for i, line in enumerate(f, start=1):\n",
    "        print(f\"{i:02d}: {line.strip()}\")"
   ]
  },
  {
   "cell_type": "markdown",
   "id": "76d2f2b3",
   "metadata": {
    "id": "76d2f2b3"
   },
   "source": [
    "\n",
    "### 2.3 Read all lines as a list with `.readlines()`\n",
    "Useful if you need random access to lines.\n"
   ]
  },
  {
   "cell_type": "code",
   "execution_count": null,
   "id": "944800c5",
   "metadata": {
    "id": "944800c5"
   },
   "outputs": [],
   "source": [
    "with open(sample_txt, 'r', encoding='utf-8') as f:\n",
    "    lines_list = f.readlines()\n",
    "\n",
    "print(type(lines_list), \"length:\", len(lines_list))\n",
    "print(lines_list[:2])  # preview"
   ]
  },
  {
   "cell_type": "markdown",
   "id": "d3d143a6",
   "metadata": {
    "id": "d3d143a6"
   },
   "source": [
    "\n",
    "## Writing Text Files\n",
    "\n",
    "To write data to a file, open it in the appropriate **mode**:\n",
    "\n",
    "- `'w'` → **Write**: Creates a new file or **overwrites** if it exists.  \n",
    "- `'a'` → **Append**: Adds new content at the **end** of the file.  \n",
    "- `'x'` → **Exclusive create**: Errors out if the file already exists.  \n",
    "- Add `'b'` → **Binary mode** (e.g., `'wb'` for images).\n",
    "\n",
    "### Important Notes\n",
    "- Writing does **not** add newlines automatically — you must include `\\n` where needed.  \n",
    "- Overwriting with `'w'` will delete existing content without warning.  \n",
    "- Use `'a'` when keeping logs or history.\n"
   ]
  },
  {
   "cell_type": "markdown",
   "id": "46a2f223",
   "metadata": {
    "id": "46a2f223"
   },
   "source": [
    "\n",
    "### 3.1 Overwrite with `'w'` mode\n",
    "If the file exists, its contents are replaced.\n"
   ]
  },
  {
   "cell_type": "code",
   "execution_count": null,
   "id": "bc6958a6",
   "metadata": {
    "id": "bc6958a6"
   },
   "outputs": [],
   "source": [
    "new_txt = data_dir / 'output_overwrite.txt'\n",
    "\n",
    "with open(new_txt, 'w', encoding='utf-8') as f:\n",
    "    f.write(\"First line\\n\")\n",
    "    f.write(\"Second line\\n\")\n",
    "\n",
    "print(\"Wrote:\", new_txt)"
   ]
  },
  {
   "cell_type": "markdown",
   "id": "63f42457",
   "metadata": {
    "id": "63f42457"
   },
   "source": [
    "\n",
    "### 3.2 Append with `'a'` mode\n",
    "Adds to the end of the file or creates a new file if missing.\n"
   ]
  },
  {
   "cell_type": "code",
   "execution_count": null,
   "id": "45792cb8",
   "metadata": {
    "id": "45792cb8"
   },
   "outputs": [],
   "source": [
    "append_txt = data_dir / 'output_append.txt'\n",
    "\n",
    "with open(append_txt, 'a', encoding='utf-8') as f:\n",
    "    f.write(\"Log entry 1\\n\")\n",
    "\n",
    "with open(append_txt, 'a', encoding='utf-8') as f:\n",
    "    f.write(\"Log entry 2\\n\")\n",
    "\n",
    "print(append_txt.read_text(encoding='utf-8'))"
   ]
  },
  {
   "cell_type": "markdown",
   "id": "5bfac937",
   "metadata": {
    "id": "5bfac937"
   },
   "source": [
    "\n",
    "### 3.3 Write many lines with `writelines()`\n",
    "Remember: **you** must include `\\n` if you want newlines.\n"
   ]
  },
  {
   "cell_type": "code",
   "execution_count": null,
   "id": "13a2fcd9",
   "metadata": {
    "id": "13a2fcd9"
   },
   "outputs": [],
   "source": [
    "writelines_txt = data_dir / 'output_writelines.txt'\n",
    "lines = [f\"Item {i}\\n\" for i in range(1, 6)]\n",
    "\n",
    "with open(writelines_txt, 'w', encoding='utf-8') as f:\n",
    "    f.writelines(lines)\n",
    "\n",
    "print(writelines_txt.read_text(encoding='utf-8'))"
   ]
  },
  {
   "cell_type": "markdown",
   "id": "93222a10",
   "metadata": {
    "id": "93222a10"
   },
   "source": [
    "## CSV Files: Read & Write (built-in `csv` module)\n",
    "\n",
    "CSV (**Comma-Separated Values**) files are plain-text spreadsheets where each row is separated by a newline and columns are separated by commas.\n",
    "\n",
    "### Why CSV?\n",
    "- Simple, lightweight, human-readable.\n",
    "- Widely used in data exchange between Excel, databases, and Python.\n",
    "\n"
   ]
  },
  {
   "cell_type": "markdown",
   "id": "bd158593",
   "metadata": {
    "id": "bd158593"
   },
   "source": [
    "\n",
    "\n",
    "### Writing CSVs\n",
    "- `csv.writer` → Writes rows from lists.  \n",
    "- `csv.DictWriter` → Writes rows from dictionaries with headers.  "
   ]
  },
  {
   "cell_type": "code",
   "execution_count": 1,
   "id": "1589fa81",
   "metadata": {
    "id": "1589fa81"
   },
   "outputs": [
    {
     "name": "stdout",
     "output_type": "stream",
     "text": [
      "Wrote CSV: people.csv\n"
     ]
    }
   ],
   "source": [
    "import csv\n",
    "\n",
    "csv_path = 'people.csv'\n",
    "\n",
    "rows = [\n",
    "    ['name', 'age', 'city'],\n",
    "    ['Alice', 30, 'Boston'],\n",
    "    ['Bob', 25, 'Austin'],\n",
    "    ['Zoë', 28, 'Zürich'],  # non-ASCII characters\n",
    "]\n",
    "\n",
    "with open(csv_path, 'w', newline='', encoding='utf-8') as f:\n",
    "    writer = csv.writer(f)\n",
    "    writer.writerows(rows)\n",
    "\n",
    "print(\"Wrote CSV:\", csv_path)"
   ]
  },
  {
   "cell_type": "markdown",
   "id": "5956a533",
   "metadata": {
    "id": "5956a533"
   },
   "source": [
    "### Reading CSVs\n",
    "- `csv.reader` → Reads rows as lists (`['Alice', '30', 'Boston']`).  \n",
    "- `csv.DictReader` → Reads rows as dictionaries (`{'name': 'Alice', 'age': '30', 'city': 'Boston'}`)."
   ]
  },
  {
   "cell_type": "code",
   "execution_count": 2,
   "id": "4ac721ed",
   "metadata": {
    "id": "4ac721ed"
   },
   "outputs": [
    {
     "data": {
      "text/plain": [
       "[['name', 'age', 'city'],\n",
       " ['Alice', '30', 'Boston'],\n",
       " ['Bob', '25', 'Austin'],\n",
       " ['Zoë', '28', 'Zürich']]"
      ]
     },
     "execution_count": 2,
     "metadata": {},
     "output_type": "execute_result"
    }
   ],
   "source": [
    "with open(csv_path, 'r', newline='', encoding='utf-8') as f:\n",
    "    reader = csv.reader(f)\n",
    "    data = list(reader)\n",
    "\n",
    "data"
   ]
  },
  {
   "cell_type": "markdown",
   "id": "7d998a17",
   "metadata": {
    "id": "7d998a17"
   },
   "source": [
    "\n",
    "### 4.3 Read CSV (as dicts) with `csv.DictReader`\n",
    "Access columns by **name**—often easier to work with.\n"
   ]
  },
  {
   "cell_type": "code",
   "execution_count": 3,
   "id": "79d178cc",
   "metadata": {
    "id": "79d178cc"
   },
   "outputs": [
    {
     "data": {
      "text/plain": [
       "[{'name': 'Alice', 'age': '30', 'city': 'Boston'},\n",
       " {'name': 'Bob', 'age': '25', 'city': 'Austin'},\n",
       " {'name': 'Zoë', 'age': '28', 'city': 'Zürich'}]"
      ]
     },
     "execution_count": 3,
     "metadata": {},
     "output_type": "execute_result"
    }
   ],
   "source": [
    "with open(csv_path, 'r', newline='', encoding='utf-8') as f:\n",
    "    reader = csv.DictReader(f)\n",
    "    people = list(reader)\n",
    "\n",
    "people"
   ]
  },
  {
   "cell_type": "markdown",
   "id": "38cca3be",
   "metadata": {
    "id": "38cca3be"
   },
   "source": [
    "\n",
    "### 4.4 Write CSV (from dicts) with `csv.DictWriter`\n"
   ]
  },
  {
   "cell_type": "code",
   "execution_count": 6,
   "id": "db236cd6",
   "metadata": {
    "id": "db236cd6"
   },
   "outputs": [],
   "source": [
    "csv_out = 'people_out.csv'\n",
    "fieldnames = ['name', 'age', 'city']\n",
    "\n",
    "with open(csv_out, 'w', newline='', encoding='utf-8') as f:\n",
    "    writer = csv.DictWriter(f, fieldnames=fieldnames)\n",
    "    writer.writeheader()\n",
    "    for p in people:\n",
    "        writer.writerow(p)\n"
   ]
  },
  {
   "cell_type": "code",
   "execution_count": null,
   "id": "2b8efbc9-0429-4e05-bae4-c6034f52b7c6",
   "metadata": {},
   "outputs": [],
   "source": []
  }
 ],
 "metadata": {
  "colab": {
   "provenance": []
  },
  "kernelspec": {
   "display_name": "Python 3 (ipykernel)",
   "language": "python",
   "name": "python3"
  },
  "language_info": {
   "codemirror_mode": {
    "name": "ipython",
    "version": 3
   },
   "file_extension": ".py",
   "mimetype": "text/x-python",
   "name": "python",
   "nbconvert_exporter": "python",
   "pygments_lexer": "ipython3",
   "version": "3.12.4"
  }
 },
 "nbformat": 4,
 "nbformat_minor": 5
}
