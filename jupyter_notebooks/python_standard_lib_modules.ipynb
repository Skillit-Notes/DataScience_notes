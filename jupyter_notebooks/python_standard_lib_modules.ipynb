{
 "cells": [
  {
   "cell_type": "markdown",
   "id": "xM6Oo09BKq4g",
   "metadata": {
    "id": "xM6Oo09BKq4g"
   },
   "source": [
    "# Python Standard Library Essentials (Beginner Friendly)\n",
    "\n",
    "This notebook introduces several **core Python standard-library modules** you’ll use in real projects:\n",
    "**`os`**, **`sys`**, **`math`**, **`random`**, **`json`**, **`time`**, **`datetime`**, and **`collections`**.\n",
    "\n",
    "Each section contains:\n",
    "- A clear, beginner-friendly explanation of *what the module is for*\n",
    "- Practical examples you can run right away (no external libraries needed)\n",
    "\n",
    "> Tip: Run cells with **Shift+Enter**. Feel free to edit and re-run to explore.\n",
    "\n",
    "---\n",
    "\n",
    "## Table of Contents\n",
    "1. [os](#os)\n",
    "2. [sys](#sys)\n",
    "3. [math](#math)\n",
    "4. [random](#random)\n",
    "5. [json](#json)\n",
    "6. [time](#time)\n",
    "7. [datetime](#datetime)\n",
    "8. [collections](#collections)\n"
   ]
  },
  {
   "cell_type": "markdown",
   "id": "0VHxajGzKq4i",
   "metadata": {
    "id": "0VHxajGzKq4i"
   },
   "source": [
    "## 🗂️ os — Operating System Services\n",
    "\n",
    "The `os` module allows Python to interact with the operating system.  \n",
    "Think of it as a bridge between Python and your computer’s file system.  \n",
    "\n",
    "**Why use `os`?**  \n",
    "- To check or change the current working directory (where your code is running).  \n",
    "- To list, create, or delete folders and files.  \n",
    "- To safely join file paths in a way that works on all platforms (Windows, macOS, Linux).  \n",
    "- To access environment variables (like system paths, user details, or API keys).  \n",
    "\n",
    "Whenever you need to deal with files or folders, `os` is your go-to module.  \n"
   ]
  },
  {
   "cell_type": "code",
   "execution_count": null,
   "id": "bdkudWYZKq4i",
   "metadata": {
    "id": "bdkudWYZKq4i"
   },
   "outputs": [],
   "source": [
    "import os\n",
    "\n",
    "# Where are we right now?\n",
    "print(\"Current working directory:\", os.getcwd())\n",
    "\n",
    "# List files/folders in the current directory\n",
    "print(\"\\nDirectory listing:\")\n",
    "for name in os.listdir():\n",
    "    print(\" -\", name)\n",
    "\n",
    "# Create & remove a folder in a SAFE local area\n",
    "workdir = \"demo_os_dir\"\n",
    "if not os.path.exists(workdir):\n",
    "    os.mkdir(workdir)\n",
    "    print(f\"\\nCreated folder: {workdir}\")\n",
    "\n",
    "# Build a file path the safe way (cross-platform)\n",
    "file_path = os.path.join(workdir, \"example.txt\")\n",
    "with open(file_path, \"w\", encoding=\"utf-8\") as f:\n",
    "    f.write(\"Hello from os module!\\n\")\n",
    "\n",
    "print(\"Created file:\", file_path)\n",
    "\n",
    "# Read it back\n",
    "with open(file_path, \"r\", encoding=\"utf-8\") as f:\n",
    "    print(\"\\nFile contents:\")\n",
    "    print(f.read())\n",
    "\n",
    "# Clean up: remove file and directory\n",
    "os.remove(file_path)\n",
    "os.rmdir(workdir)\n",
    "print(\"\\nCleaned up demo files.\")"
   ]
  },
  {
   "cell_type": "markdown",
   "id": "MV5ToCHMKq4j",
   "metadata": {
    "id": "MV5ToCHMKq4j"
   },
   "source": [
    "\n",
    "## ⚙️ sys — System-Specific Parameters and Functions\n",
    "\n",
    "The `sys` module gives you information and control over the **Python interpreter itself**.  \n",
    "\n",
    "**Why use `sys`?**  \n",
    "- To know which Python version is running.  \n",
    "- To inspect command-line arguments passed to a script (`sys.argv`).  \n",
    "- To see or modify where Python looks for modules (`sys.path`).  \n",
    "- To exit your program early (`sys.exit()`).  \n",
    "\n",
    "This module is less about files and more about how your Python program runs inside the interpreter.  \n"
   ]
  },
  {
   "cell_type": "code",
   "execution_count": null,
   "id": "lKTcw8F3Kq4j",
   "metadata": {
    "id": "lKTcw8F3Kq4j"
   },
   "outputs": [],
   "source": [
    "import sys\n",
    "\n",
    "print(\"Python version:\", sys.version.split()[0])\n",
    "print(\"Executable:\", sys.executable)\n",
    "print(\"Platform:\", sys.platform)\n",
    "\n",
    "# Simulate how command-line args appear (in notebooks, argv is minimal)\n",
    "print(\"\\nsys.argv:\", sys.argv)\n",
    "\n",
    "# Where Python looks for modules (the import search path)\n",
    "print(\"\\nFirst 5 entries in sys.path:\")\n",
    "for p in sys.path[:5]:\n",
    "    print(\" -\", p)"
   ]
  },
  {
   "cell_type": "markdown",
   "id": "N2XAkc5eKq4j",
   "metadata": {
    "id": "N2XAkc5eKq4j"
   },
   "source": [
    "\n",
    "## ➗ math — Mathematical Functions\n",
    "\n",
    "The `math` module provides access to advanced mathematical operations and constants.  \n",
    "While Python can already do basic addition, subtraction, and multiplication, `math` lets you work with square roots, trigonometry, logarithms, factorials, and more.  \n",
    "\n",
    "**Why use `math`?**  \n",
    "- To access mathematical constants like π (`math.pi`) and e (`math.e`).  \n",
    "- To perform trigonometric calculations (sine, cosine, tangent).  \n",
    "- To work with logarithms, powers, and factorials.  \n",
    "- To round numbers precisely (`floor`, `ceil`, `trunc`).  \n",
    "\n",
    "Whenever you need scientific or geometric calculations, `math` is essential.  \n"
   ]
  },
  {
   "cell_type": "code",
   "execution_count": null,
   "id": "HUwSnUy0Kq4j",
   "metadata": {
    "id": "HUwSnUy0Kq4j"
   },
   "outputs": [],
   "source": [
    "import math\n",
    "\n",
    "# Constants\n",
    "print(\"pi:\", math.pi)\n",
    "print(\"e:\", math.e)\n",
    "print(\"tau:\", math.tau)\n",
    "\n",
    "# Roots and powers\n",
    "print(\"\\nsqrt(16):\", math.sqrt(16))\n",
    "print(\"pow(2, 5):\", math.pow(2, 5))  # float pow\n",
    "print(\"hypot(3, 4):\", math.hypot(3, 4))  # length of vector (3,4)\n",
    "\n",
    "# Rounding helpers\n",
    "print(\"\\nfloor(3.7):\", math.floor(3.7))\n",
    "print(\"ceil(3.1):\", math.ceil(3.1))\n",
    "print(\"trunc(-3.9):\", math.trunc(-3.9))\n",
    "\n",
    "# Trigonometry\n",
    "angle = math.pi / 6  # 30 degrees\n",
    "print(\"\\nsin(30°):\", math.sin(angle))\n",
    "print(\"cos(30°):\", math.cos(angle))\n",
    "print(\"degrees(pi/6):\", math.degrees(angle), \"deg\")\n",
    "print(\"radians(180):\", math.radians(180), \"rad\")\n",
    "\n",
    "# Factorial & combinatorics\n",
    "print(\"\\nfactorial(5):\", math.factorial(5))\n",
    "print(\"comb(5,2):\", math.comb(5, 2))\n",
    "print(\"perm(5,2):\", math.perm(5, 2))"
   ]
  },
  {
   "cell_type": "markdown",
   "id": "aOq8GftDKq4j",
   "metadata": {
    "id": "aOq8GftDKq4j"
   },
   "source": [
    "## 🎲 random — Random Number Generation\n",
    "\n",
    "The `random` module lets you generate pseudo-random numbers.  \n",
    "These numbers are not truly random (they are based on algorithms), but they are good enough for games, simulations, and testing.  \n",
    "\n",
    "**Why use `random`?**  \n",
    "- To pick a random number in a range (like rolling a dice).  \n",
    "- To shuffle items in a list (like shuffling cards).  \n",
    "- To sample random items from a collection (like choosing lottery numbers).  \n",
    "- To make your results reproducible by setting a “seed” for randomness.  \n",
    "\n",
    "If your program ever needs unpredictability — a game, a test sample, or random data — this is the module to use.  \n"
   ]
  },
  {
   "cell_type": "code",
   "execution_count": null,
   "id": "WSmE0SG2Kq4j",
   "metadata": {
    "id": "WSmE0SG2Kq4j"
   },
   "outputs": [],
   "source": [
    "import random\n",
    "\n",
    "# Set a seed to make results reproducible\n",
    "random.seed(42)\n",
    "\n",
    "# Random numbers\n",
    "print(\"random():\", random.random())          # 0 <= x < 1\n",
    "print(\"uniform(5, 10):\", random.uniform(5, 10))\n",
    "print(\"randint(1, 6):\", random.randint(1, 6))  # inclusive\n",
    "\n",
    "# Choices from sequences\n",
    "colors = [\"red\", \"green\", \"blue\", \"yellow\"]\n",
    "print(\"\\nchoice:\", random.choice(colors))\n",
    "print(\"sample 2:\", random.sample(colors, k=2))\n",
    "\n",
    "# Shuffle (in-place)\n",
    "random.shuffle(colors)\n",
    "print(\"shuffled:\", colors)"
   ]
  },
  {
   "cell_type": "markdown",
   "id": "Jzgb8LB9Kq4j",
   "metadata": {
    "id": "Jzgb8LB9Kq4j"
   },
   "source": [
    "## 🌐 json — Working with JSON Data\n",
    "\n",
    "JSON (JavaScript Object Notation) is one of the most popular formats for storing and exchanging data.  \n",
    "The `json` module in Python allows you to easily convert between JSON text and Python objects.  \n",
    "\n",
    "**Why use `json`?**  \n",
    "- To save Python dictionaries or lists into files in JSON format.  \n",
    "- To read data from JSON files (common in web APIs and configuration files).  \n",
    "- To convert Python objects into strings that can be shared across systems.  \n",
    "\n",
    "JSON is everywhere: web APIs, settings files, and data exchange between programs. Mastering the `json` module is crucial for modern programming.  \n"
   ]
  },
  {
   "cell_type": "code",
   "execution_count": null,
   "id": "MGSdfRUwKq4j",
   "metadata": {
    "id": "MGSdfRUwKq4j"
   },
   "outputs": [],
   "source": [
    "import json\n",
    "import os\n",
    "\n",
    "# Python data -> JSON string\n",
    "data = {\"name\": \"Alex\", \"age\": 25, \"skills\": [\"python\", \"sql\"], \"active\": True}\n",
    "js = json.dumps(data)  # compact\n",
    "js_pretty = json.dumps(data, indent=2)  # human-readable\n",
    "print(\"JSON (pretty):\\n\", js_pretty)\n",
    "\n",
    "# Write to file, then read it back\n",
    "path = \"demo_data.json\"\n",
    "with open(path, \"w\", encoding=\"utf-8\") as f:\n",
    "    json.dump(data, f, indent=2)\n",
    "\n",
    "with open(path, \"r\", encoding=\"utf-8\") as f:\n",
    "    loaded = json.load(f)\n",
    "\n",
    "print(\"\\nLoaded from file:\", loaded)\n",
    "\n",
    "# Clean up\n",
    "os.remove(path)"
   ]
  },
  {
   "cell_type": "markdown",
   "id": "poVlrVmvKq4k",
   "metadata": {
    "id": "poVlrVmvKq4k"
   },
   "source": [
    "## ⏱️ time — Time Access and Conversions\n",
    "\n",
    "The `time` module deals with time at a low level.  \n",
    "It works with timestamps (seconds since January 1, 1970, known as the Unix epoch), pauses execution, and measures performance.  \n",
    "\n",
    "**Why use `time`?**  \n",
    "- To get the current timestamp.  \n",
    "- To pause your program for a few seconds (`time.sleep`).  \n",
    "- To measure how long a piece of code takes to run.  \n",
    "\n",
    "It is simple but powerful when you need basic timing functionality.  \n"
   ]
  },
  {
   "cell_type": "code",
   "execution_count": null,
   "id": "BgH9yFBFKq4k",
   "metadata": {
    "id": "BgH9yFBFKq4k"
   },
   "outputs": [],
   "source": [
    "import time\n",
    "\n",
    "start = time.time()        # seconds since epoch (float)\n",
    "print(\"Current timestamp:\", start)\n",
    "\n",
    "# Sleep briefly (demonstration; keep it short in notebooks)\n",
    "time.sleep(0.2)\n",
    "\n",
    "end = time.time()\n",
    "print(\"Elapsed seconds:\", end - start)\n",
    "\n",
    "# CPU process time (doesn't include sleep)\n",
    "print(\"Process time:\", time.process_time())"
   ]
  },
  {
   "cell_type": "markdown",
   "id": "4w2-V6bIKq4k",
   "metadata": {
    "id": "4w2-V6bIKq4k"
   },
   "source": [
    "## 📅 datetime — Dates and Times\n",
    "\n",
    "The `datetime` module is the advanced tool for working with dates and times.  \n",
    "Unlike `time`, which focuses on raw timestamps, `datetime` gives you readable objects like `date`, `time`, and `datetime`.  \n",
    "\n",
    "**Why use `datetime`?**  \n",
    "- To get today’s date or the current date and time.  \n",
    "- To do date arithmetic (like “what’s two weeks from now?”).  \n",
    "- To format dates into readable strings (like `2025-08-30 14:00:00`).  \n",
    "- To parse strings back into date objects.  \n",
    "\n",
    "If you are scheduling tasks, working with logs, or processing time-based data, `datetime` is the right tool.  \n"
   ]
  },
  {
   "cell_type": "code",
   "execution_count": null,
   "id": "zOiFk_diKq4k",
   "metadata": {
    "id": "zOiFk_diKq4k"
   },
   "outputs": [],
   "source": [
    "from datetime import date, time as dtime, datetime, timedelta\n",
    "\n",
    "# Today's date and current date/time\n",
    "today = date.today()\n",
    "now = datetime.now()\n",
    "\n",
    "print(\"Today:\", today)\n",
    "print(\"Now:\", now)\n",
    "\n",
    "# Build specific date/time objects\n",
    "deadline = datetime(2025, 1, 15, 17, 30)\n",
    "print(\"\\nDeadline:\", deadline)\n",
    "\n",
    "# Timedelta arithmetic\n",
    "two_weeks = timedelta(weeks=2)\n",
    "print(\"Two weeks after deadline:\", deadline + two_weeks)\n",
    "\n",
    "# Formatting and parsing\n",
    "fmt = \"%Y-%m-%d %H:%M:%S\"\n",
    "formatted = now.strftime(fmt)\n",
    "parsed = datetime.strptime(formatted, fmt)\n",
    "print(\"\\nFormatted:\", formatted)\n",
    "print(\"Parsed back:\", parsed)"
   ]
  },
  {
   "cell_type": "markdown",
   "id": "ddNHK0c3Kq4k",
   "metadata": {
    "id": "ddNHK0c3Kq4k"
   },
   "source": [
    "## 🧰 collections — Specialized Data Structures\n",
    "\n",
    "The `collections` module provides advanced container types that go beyond the basic `list`, `dict`, and `tuple`.  \n",
    "\n",
    "**Why use `collections`?**  \n",
    "- `Counter` → count how many times items appear (like word frequencies).  \n",
    "- `defaultdict` → automatically create default values for missing keys.  \n",
    "- `namedtuple` → tuples with named fields, making them more readable.  \n",
    "- `deque` → fast append and pop operations from both ends (like a queue).  \n",
    "- `OrderedDict` → dictionary that remembers the order of keys (important in older versions of Python, before 3.7).  \n",
    "\n",
    "These tools let you write cleaner, faster, and more expressive programs when dealing with structured data.  \n"
   ]
  },
  {
   "cell_type": "code",
   "execution_count": null,
   "id": "TOdlhChmKq4k",
   "metadata": {
    "id": "TOdlhChmKq4k"
   },
   "outputs": [],
   "source": [
    "from collections import Counter, defaultdict, namedtuple, deque, OrderedDict\n",
    "\n",
    "# Counter: frequency counting\n",
    "words = \"to be or not to be that is the question\".split()\n",
    "freq = Counter(words)\n",
    "print(\"Counter:\", freq)\n",
    "print(\"Most common 3:\", freq.most_common(3))\n",
    "\n",
    "# defaultdict: auto-create defaults\n",
    "dd = defaultdict(list)\n",
    "dd[\"fruits\"].append(\"apple\")\n",
    "dd[\"fruits\"].append(\"banana\")\n",
    "dd[\"veggies\"].append(\"carrot\")\n",
    "print(\"\\ndefaultdict:\", dict(dd))\n",
    "\n",
    "# namedtuple: tuples with field names\n",
    "Point = namedtuple(\"Point\", [\"x\", \"y\"])\n",
    "p = Point(3, 4)\n",
    "print(\"\\nnamedtuple -> p.x:\", p.x, \"p.y:\", p.y)\n",
    "\n",
    "# deque: fast appends/pops from both ends\n",
    "dq = deque([1, 2, 3])\n",
    "dq.appendleft(0)\n",
    "dq.append(4)\n",
    "print(\"\\ndeque:\", dq)\n",
    "dq.pop()\n",
    "dq.popleft()\n",
    "print(\"after pops:\", dq)\n",
    "\n",
    "# OrderedDict: preserves order and can move keys\n",
    "od = OrderedDict()\n",
    "od[\"a\"] = 1\n",
    "od[\"b\"] = 2\n",
    "od[\"c\"] = 3\n",
    "od.move_to_end(\"b\")  # move key to end\n",
    "print(\"\\nOrderedDict:\", od)"
   ]
  }
 ],
 "metadata": {
  "colab": {
   "provenance": []
  },
  "created": "2025-08-29T17:31:06.892770Z",
  "kernelspec": {
   "display_name": "Python 3 (ipykernel)",
   "language": "python",
   "name": "python3"
  },
  "language_info": {
   "codemirror_mode": {
    "name": "ipython",
    "version": 3
   },
   "file_extension": ".py",
   "mimetype": "text/x-python",
   "name": "python",
   "nbconvert_exporter": "python",
   "pygments_lexer": "ipython3",
   "version": "3.12.4"
  }
 },
 "nbformat": 4,
 "nbformat_minor": 5
}
