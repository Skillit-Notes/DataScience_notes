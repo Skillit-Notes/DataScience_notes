{
 "cells": [
  {
   "cell_type": "markdown",
   "id": "1pz5RCnDpEJW",
   "metadata": {
    "id": "1pz5RCnDpEJW"
   },
   "source": [
    "# Python Programming Basics: A Beginner’s Introduction\n",
    "\n",
    "\n",
    "\n",
    "> Tip: In Jupyter, press **Shift+Enter** to run a cell.\n",
    "\n",
    "---\n",
    "\n",
    "## Table of Contents\n",
    "1. [What is Python?](#what-is-python)\n",
    "2. [Why Python?](#why-python)\n",
    "3. [How to Get Started With Python](#how-to-get-started-with-python)\n",
    "4. [Your First Python Program](#your-first-python-program)\n",
    "5. [Python Comments](#python-comments)\n",
    "6. [Python Variables, Constants, and Literals](#python-variables-constants-and-literals)\n",
    "7. [Python Basic Input and Output](#python-basic-input-and-output)\n",
    "8. [Python Operators](#python-operators)\n"
   ]
  },
  {
   "cell_type": "markdown",
   "id": "YDIHjR9fpEJX",
   "metadata": {
    "id": "YDIHjR9fpEJX"
   },
   "source": [
    "## What is Python?\n",
    "Python is a **high-level, interpreted** programming language known for its **readable, beginner-friendly** syntax.\n",
    "It’s used for web apps, data analysis, AI/ML, scripting, automation, and much more.\n",
    "\n",
    "- **High-level**: You focus on ideas, not low-level details like memory management.\n",
    "- **Interpreted**: You can run code immediately without compiling.\n",
    "- **General-purpose**: Good for many domains (web, data, scripting, games, etc.).\n",
    "- **Cross-platform**: Works on Windows, macOS, Linux.\n"
   ]
  },
  {
   "cell_type": "markdown",
   "id": "6Et9icRPpEJX",
   "metadata": {
    "id": "6Et9icRPpEJX"
   },
   "source": [
    "## Why Python?\n",
    "- **Easy to read & write**: Looks close to English; fewer lines to do more.\n",
    "- **Productive**: Quick edit–run cycle helps you learn fast.\n",
    "- **Batteries included**: Large standard library for common tasks.\n",
    "- **Huge community**: Plenty of tutorials, Q&A, and examples.\n",
    "- **Versatile**: From small scripts to large applications and data science.\n"
   ]
  },
  {
   "cell_type": "markdown",
   "id": "0EigKbqMpEJX",
   "metadata": {
    "id": "0EigKbqMpEJX"
   },
   "source": [
    "## How to Get Started With Python\n",
    "1. **Install Python 3** from https://www.python.org (on Windows, check *Add Python to PATH* during setup).\n",
    "2. **Editor/IDE**: You can use IDLE (bundled), VS Code, PyCharm, Thonny, or this Jupyter Notebook.\n",
    "3. **Run code**:\n",
    "   - Script: save as `hello.py`, then run `python hello.py` (or `python3 hello.py`) in a terminal.\n",
    "   - Interactive: run `python` in a terminal and type commands line by line.\n",
    "   - Notebook: run cells here with **Shift+Enter**.\n"
   ]
  },
  {
   "cell_type": "markdown",
   "id": "Ndi6mtt1pEJX",
   "metadata": {
    "id": "Ndi6mtt1pEJX"
   },
   "source": [
    "## Your First Python Program\n",
    "The classic first step is printing a message to the screen. We use the built-in `print()` function.\n",
    "Run the cell below!\n"
   ]
  },
  {
   "cell_type": "code",
   "execution_count": null,
   "id": "EtvN-OpXpEJX",
   "metadata": {
    "id": "EtvN-OpXpEJX"
   },
   "outputs": [],
   "source": [
    "# Your first Python program\n",
    "# The print() function sends text to the output area (called the console).\n",
    "print(\"Hello, World!\")"
   ]
  },
  {
   "cell_type": "markdown",
   "id": "86nDr2CSpEJY",
   "metadata": {
    "id": "86nDr2CSpEJY"
   },
   "source": [
    "## 💬 Python Comments\n",
    "\n",
    "Programs are written for computers to run, but also for humans to read.  \n",
    "**Comments** are notes in your code that explain what it does. Python ignores them at runtime.  \n",
    "\n",
    "### Types of Comments\n",
    "1. **Single-line comment** → starts with `#`  \n",
    "2. **Inline comment** → placed after code on the same line  \n",
    "3. **Multi-line comment** → written inside triple quotes `''' ... '''` or `\"\"\" ... \"\"\"`.  \n",
    "   (Technically these are strings, but if not used they act like comments.)  \n"
   ]
  },
  {
   "cell_type": "code",
   "execution_count": null,
   "id": "INuIkGerpEJY",
   "metadata": {
    "id": "INuIkGerpEJY"
   },
   "outputs": [],
   "source": [
    "# This is a single-line comment. The next line will run:\n",
    "print(\"This line runs\")  # You can also put a comment after code on the same line\n",
    "\n",
    "# The next line is 'commented out' and will not run:\n",
    "# print(\"This line will NOT run\")\n",
    "\n",
    "\"\"\"\n",
    "This is a multi-line string. If it's not assigned to a variable or used,\n",
    "it behaves like a block comment (good for long notes or temporary docs).\n",
    "\"\"\"\n",
    "print(\"Done with comments!\")"
   ]
  },
  {
   "cell_type": "markdown",
   "id": "-XTXiTOqpEJY",
   "metadata": {
    "id": "-XTXiTOqpEJY"
   },
   "source": [
    "## 📦 Python Variables, Constants, and Literals\n",
    "\n",
    "**What it is**  \n",
    "- **Variable**: a named location in memory that stores a value  \n",
    "- **Constant**: a variable whose value should not change (by convention, written in ALL_CAPS)  \n",
    "- **Literal**: a fixed value written directly in code (e.g., `42`, `\"hello\"`, `True`)  \n",
    "\n",
    "**Why / When to use**  \n",
    "- Variables: store and reuse values in calculations  \n",
    "- Constants: store fixed values like `PI = 3.14`  \n",
    "- Literals: represent raw values directly in code  \n",
    "\n",
    "**Key properties**  \n",
    "- Python is **dynamically typed** → variable type determined at runtime  \n",
    "- Names (identifiers) must:  \n",
    "  - Start with a letter or underscore  \n",
    "  - Contain letters, numbers, or underscores  \n",
    "  - Not use Python keywords (`if`, `class`, etc.)  \n",
    "- Case-sensitive (`age` and `Age` are different)  "
   ]
  },
  {
   "cell_type": "code",
   "execution_count": null,
   "id": "qqUC9cPSpEJY",
   "metadata": {
    "id": "qqUC9cPSpEJY"
   },
   "outputs": [],
   "source": [
    "# Variable creation and dynamic typing\n",
    "x = 5                 # x is an integer\n",
    "print(\"x =\", x, \"| type:\", type(x))\n",
    "\n",
    "x = \"Hello\"           # now x is a string\n",
    "print(\"x =\", x, \"| type:\", type(x))\n",
    "\n",
    "# Constants by convention (Python does not enforce this)\n",
    "PI = 3.14159\n",
    "GRAVITY = 9.8\n",
    "print(\"PI =\", PI, \"GRAVITY =\", GRAVITY)\n",
    "\n",
    "# Common literals\n",
    "an_int = 10                # integer literal\n",
    "a_float = 3.14             # float literal\n",
    "a_str1 = 'Hello'           # string with single quotes\n",
    "a_str2 = \"World\"           # string with double quotes\n",
    "a_multiline = \"\"\"This is\n",
    "a multi-line string.\"\"\"\n",
    "a_bool_true = True         # boolean True\n",
    "a_bool_false = False       # boolean False\n",
    "a_nothing = None           # special 'no value'\n",
    "\n",
    "print(\"Literals:\", an_int, a_float, a_str1, a_str2)\n",
    "print(\"Multi-line string ->\\n\" + a_multiline)\n",
    "print(\"Booleans:\", a_bool_true, a_bool_false, \"| None:\", a_nothing)"
   ]
  },
  {
   "cell_type": "markdown",
   "id": "3tkWwmTHpEJY",
   "metadata": {
    "id": "3tkWwmTHpEJY"
   },
   "source": [
    "## ⌨️ Python Basic Input and Output\n",
    "\n",
    "**What it is**  \n",
    "Input/Output (I/O) lets your program **interact with the user**:  \n",
    "- **Output** → show messages or results  \n",
    "- **Input** → accept data typed by the user  \n",
    "\n",
    "**Why / When to use**  \n",
    "- Output: display results, status, or feedback to the user  \n",
    "- Input: gather information such as names, numbers, or choices  \n",
    "\n",
    "**Key properties**  \n",
    "- `print()` outputs text or variables to the console  \n",
    "- `input(prompt)` reads a line of text from the user and always returns a string  \n",
    "- To use the input as a number, convert it with `int()` or `float()`\n"
   ]
  },
  {
   "cell_type": "markdown",
   "id": "Rs4363GexE6R",
   "metadata": {
    "id": "Rs4363GexE6R"
   },
   "source": [
    "### Output with `print()`\n",
    "`print()` can take multiple items (it separates them with spaces) and ends with a newline by default.\n"
   ]
  },
  {
   "cell_type": "code",
   "execution_count": null,
   "id": "CHpKmht2pEJY",
   "metadata": {
    "id": "CHpKmht2pEJY"
   },
   "outputs": [],
   "source": [
    "# Output examples\n",
    "answer = 42\n",
    "\n",
    "# 1. Comma-separated (auto spaces, auto conversion)\n",
    "print(\"The answer is\", answer)\n",
    "\n",
    "# 2. String concatenation (manual conversion needed)\n",
    "print(\"The answer is \" + str(answer))\n",
    "\n",
    "# 3. Multiple items\n",
    "print(\"Hello\", \"there\", \"friend!\")\n",
    "\n",
    "# 4. Control line ending\n",
    "print(\"No newline here...\", end=\"\")\n",
    "print(\" (continues on same line)\")\n",
    "\n",
    "# 5. f-string (Python 3.6+). Very concise!\n",
    "print(f\"The answer is {answer}\")\n",
    "\n",
    "# 6. str.format() method (older style, still useful)\n",
    "print(\"The answer is {}\".format(answer))\n",
    "print(\"My name is {0} and I am {1} years old.\".format(\"Alex\", 25))"
   ]
  },
  {
   "cell_type": "markdown",
   "id": "xjIKfw6HpEJY",
   "metadata": {
    "id": "xjIKfw6HpEJY"
   },
   "source": [
    "### Input with `input()`\n",
    "`input(prompt)` pauses and waits for the user to type, then returns a **string**.\n",
    "\n",
    "> Running cells with `input()` will wait for your response in the notebook output area.\n",
    "If you need a number, convert it with `int()` or `float()`.\n"
   ]
  },
  {
   "cell_type": "code",
   "execution_count": null,
   "id": "6_juw92RpEJY",
   "metadata": {
    "id": "6_juw92RpEJY"
   },
   "outputs": [],
   "source": [
    "# Uncomment and run to try interactive input\n",
    "name = input(\"Enter your name: \")\n",
    "# print(\"Hello,\", name + \"!\")\n",
    "\n",
    "# Numeric input requires conversion from string:\n",
    "age_txt = input(\"Enter your age: \")\n",
    "age = int(age_txt)  # convert string to integer\n",
    "print(\"In two years, you will be\", age + 2)"
   ]
  },
  {
   "cell_type": "markdown",
   "id": "YJW8BbzupEJZ",
   "metadata": {
    "id": "YJW8BbzupEJZ"
   },
   "source": [
    "## ➕ Python Operators\n",
    "\n",
    "**What it is**  \n",
    "Operators are special symbols in Python that let you **perform operations** on values and variables, such as arithmetic, comparison, logic, or bit-level work.  \n",
    "\n",
    "**Why / When to use**  \n",
    "- To calculate results from numbers  \n",
    "- To compare values and make decisions  \n",
    "- To combine conditions in control flow  \n",
    "- To manipulate data at a low level (bitwise operations)  \n",
    "\n",
    "---\n",
    "\n",
    "### 1. Arithmetic Operators  \n",
    "Used for basic math operations.  \n",
    "\n",
    "| Operator | Meaning | Example | Result |\n",
    "|----------|---------|---------|--------|\n",
    "| `+` | Addition | `5 + 3` | `8` |\n",
    "| `-` | Subtraction | `5 - 3` | `2` |\n",
    "| `*` | Multiplication | `5 * 3` | `15` |\n",
    "| `/` | Division (float result) | `5 / 2` | `2.5` |\n",
    "| `//` | Floor Division | `5 // 2` | `2` |\n",
    "| `%` | Modulus (remainder) | `5 % 2` | `1` |\n",
    "| `**` | Exponentiation (power) | `2 ** 3` | `8` |\n",
    "\n",
    "---\n",
    "\n",
    "### 2. Assignment Operators  \n",
    "Used to assign values to variables.  \n",
    "You can combine assignment with arithmetic.  \n",
    "\n",
    "| Operator | Meaning | Example | Equivalent |\n",
    "|----------|---------|---------|------------|\n",
    "| `=` | Assign | `x = 5` | — |\n",
    "| `+=` | Add and assign | `x += 3` | `x = x + 3` |\n",
    "| `-=` | Subtract and assign | `x -= 3` | `x = x - 3` |\n",
    "| `*=` | Multiply and assign | `x *= 3` | `x = x * 3` |\n",
    "| `/=` | Divide and assign | `x /= 3` | `x = x / 3` |\n",
    "| `//=` | Floor divide and assign | `x //= 3` | `x = x // 3` |\n",
    "| `%=` | Modulus and assign | `x %= 3` | `x = x % 3` |\n",
    "| `**=` | Exponent and assign | `x **= 3` | `x = x ** 3` |\n",
    "\n",
    "---\n",
    "\n",
    "### 3. Comparison (Relational) Operators  \n",
    "Used to compare values. They return **True** or **False**.  \n",
    "\n",
    "| Operator | Meaning | Example | Result |\n",
    "|----------|---------|---------|--------|\n",
    "| `==` | Equal | `5 == 5` | `True` |\n",
    "| `!=` | Not equal | `5 != 3` | `True` |\n",
    "| `>` | Greater than | `5 > 3` | `True` |\n",
    "| `<` | Less than | `5 < 3` | `False` |\n",
    "| `>=` | Greater or equal | `5 >= 5` | `True` |\n",
    "| `<=` | Less or equal | `3 <= 5` | `True` |\n",
    "\n",
    "---\n",
    "\n",
    "### 4. Logical Operators  \n",
    "Used to combine conditions.  \n",
    "\n",
    "| Operator | Meaning | Example | Result |\n",
    "|----------|---------|---------|--------|\n",
    "| `and` | True if **both** are true | `(5 > 3) and (2 < 4)` | `True` |\n",
    "| `or` | True if **at least one** is true | `(5 > 3) or (2 > 4)` | `True` |\n",
    "| `not` | Negates the condition | `not(5 > 3)` | `False` |\n",
    "\n",
    "---\n",
    "\n",
    "### 5. Identity Operators  \n",
    "Used to compare **object identity** (not values).  \n",
    "\n",
    "| Operator | Meaning | Example | Result |\n",
    "|----------|---------|---------|--------|\n",
    "| `is` | True if both refer to the **same object** | `a is b` | True if same memory reference |\n",
    "| `is not` | True if they are **different objects** | `a is not b` | True if different objects |\n",
    "\n",
    "⚠️ Tip:  \n",
    "- Use `==` to compare **values**  \n",
    "- Use `is` to compare **objects (memory identity)**  \n",
    "\n",
    "---\n",
    "\n",
    "### 6. Membership Operators  \n",
    "Check if a value exists in a sequence (string, list, set, etc.).  \n",
    "\n",
    "| Operator | Meaning | Example | Result |\n",
    "|----------|---------|---------|--------|\n",
    "| `in` | True if value is present | `\"a\" in \"apple\"` | `True` |\n",
    "| `not in` | True if value is not present | `\"x\" not in \"apple\"` | `True` |\n",
    "\n",
    "---\n",
    "\n",
    "### 7. Bitwise Operators (Advanced)  \n",
    "Operate at the **bit (binary) level**. Often used in low-level programming.  \n",
    "\n",
    "| Operator | Meaning | Example | Result (in binary) |\n",
    "|----------|---------|---------|--------------------|\n",
    "| `&` | AND | `5 & 3` → `101 & 011` | `001` (1) |\n",
    "| `|` | OR | `5 | 3` → `101 | 011` | `111` (7) |\n",
    "| `^` | XOR | `5 ^ 3` → `101 ^ 011` | `110` (6) |\n",
    "| `~` | NOT (invert bits) | `~5` | `-(5+1)` = `-6` |\n",
    "| `<<` | Left shift | `5 << 1` → `101 <<` | `1010` (10) |\n",
    "| `>>` | Right shift | `5 >> 1` → `101 >>` | `10` (2) |\n",
    "\n"
   ]
  },
  {
   "cell_type": "code",
   "execution_count": null,
   "id": "LmxuD11apEJZ",
   "metadata": {
    "id": "LmxuD11apEJZ"
   },
   "outputs": [],
   "source": [
    "# Arithmetic operators\n",
    "a, b = 10, 3\n",
    "print(\"a + b =\", a + b)    # 13\n",
    "print(\"a - b =\", a - b)    # 7\n",
    "print(\"a * b =\", a * b)    # 30\n",
    "print(\"a / b =\", a / b)    # 3.333...\n",
    "print(\"a // b =\", a // b)  # 3 (floor division)\n",
    "print(\"a % b =\", a % b)    # 1 (remainder)\n",
    "print(\"a ** b =\", a ** b)  # 1000 (power)\n",
    "\n",
    "# Assignment (compound)\n",
    "x = 5\n",
    "x += 2      # x = x + 2\n",
    "x *= 3      # x = x * 3\n",
    "print(\"x after +=2 then *=3 ->\", x)\n",
    "\n",
    "# Comparison -> results are booleans\n",
    "print(\"5 == 5:\", 5 == 5)\n",
    "print(\"5 != 3:\", 5 != 3)\n",
    "print(\"7 > 2:\", 7 > 2)\n",
    "print(\"7 < 2:\", 7 < 2)\n",
    "print(\"3 >= 3:\", 3 >= 3)\n",
    "print(\"4 <= 3:\", 4 <= 3)\n",
    "\n",
    "# Logical operators\n",
    "age = 25\n",
    "income = 50000\n",
    "eligible = (age > 18) and (income > 30000)\n",
    "print(\"Eligible:\", eligible)\n",
    "print(\"True or False ->\", True or False)\n",
    "print(\"not True ->\", not True)\n",
    "\n",
    "# Identity vs equality\n",
    "lst1 = [1, 2, 3]\n",
    "lst2 = lst1\n",
    "lst3 = [1, 2, 3]\n",
    "print(\"lst1 is lst2:\", lst1 is lst2)  # same object\n",
    "print(\"lst1 is lst3:\", lst1 is lst3)  # different objects\n",
    "print(\"lst1 == lst3:\", lst1 == lst3)  # same contents\n",
    "\n",
    "# Membership\n",
    "fruit = \"banana\"\n",
    "print(\"'a' in 'banana':\", \"a\" in fruit)\n",
    "nums = [1, 2, 3, 4]\n",
    "print(\"3 in [1,2,3,4]:\", 3 in nums)\n",
    "\n",
    "# Bitwise (advanced)\n",
    "print(\"5 & 3 =\", 5 & 3)    # AND\n",
    "print(\"5 | 3 =\", 5 | 3)    # OR\n",
    "print(\"5 ^ 3 =\", 5 ^ 3)    # XOR\n",
    "print(\"~5 =\", ~5)          # NOT (two's complement)\n",
    "print(\"3 << 2 =\", 3 << 2)  # left shift (3 * 2^2 = 12)\n",
    "print(\"12 >> 2 =\", 12 >> 2) # right shift (12 // 2^2 = 3)"
   ]
  }
 ],
 "metadata": {
  "colab": {
   "provenance": []
  },
  "created": "2025-08-29T16:23:11.687307Z",
  "kernelspec": {
   "display_name": "Python 3 (ipykernel)",
   "language": "python",
   "name": "python3"
  },
  "language_info": {
   "codemirror_mode": {
    "name": "ipython",
    "version": 3
   },
   "file_extension": ".py",
   "mimetype": "text/x-python",
   "name": "python",
   "nbconvert_exporter": "python",
   "pygments_lexer": "ipython3",
   "version": "3.12.4"
  }
 },
 "nbformat": 4,
 "nbformat_minor": 5
}
