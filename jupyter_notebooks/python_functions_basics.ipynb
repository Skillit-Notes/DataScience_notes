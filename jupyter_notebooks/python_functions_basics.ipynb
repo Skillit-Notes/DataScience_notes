{
  "cells": [
    {
      "cell_type": "markdown",
      "metadata": {
        "id": "nAXBhxOGym0H"
      },
      "source": [
        "# Python Functions and Related Concepts\n",
        "\n",
        "---\n",
        "\n",
        "## Table of Contents\n",
        "1. [Python Functions](#-python-functions)\n",
        "2. [Python Function Arguments](#-python-function-arguments)\n",
        "3. [Python Variable Scope](#-python-variable-scope)\n",
        "4. [Python Global Keyword](#-python-global-keyword)\n",
        "5. [Python Recursion](#-python-recursion)\n",
        "6. [Python Modules](#-python-modules)\n",
        "7. [Python Package](#-python-package)\n",
        "8. [Python Main Function](#-python-main-function)\n"
      ],
      "id": "nAXBhxOGym0H"
    },
    {
      "cell_type": "markdown",
      "metadata": {
        "id": "6n0OBbcsym0L"
      },
      "source": [
        "## 🔧 Python Functions\n",
        "\n",
        "A **function** is a block of code that runs only when called. Functions allow us to **group code** that performs a specific task and reuse it multiple times.\n",
        "\n",
        "**Why functions matter**  \n",
        "- Avoid repeating code (DRY principle: Don't Repeat Yourself)  \n",
        "- Make programs easier to read and maintain  \n",
        "- Break problems into smaller, manageable parts  \n",
        "\n",
        "**Defining and calling functions**  \n",
        "- Define with `def` keyword  \n",
        "- Call by writing the function name followed by parentheses  \n"
      ],
      "id": "6n0OBbcsym0L"
    },
    {
      "cell_type": "code",
      "metadata": {
        "id": "6-znMV6Zym0M"
      },
      "execution_count": null,
      "outputs": [],
      "source": [
        "# Define a simple function\n",
        "def greet():\n",
        "    print(\"Hello, welcome to Python!\")\n",
        "\n",
        "# Call the function\n",
        "greet()"
      ],
      "id": "6-znMV6Zym0M"
    },
    {
      "cell_type": "markdown",
      "metadata": {
        "id": "VfDb2K-Oym0N"
      },
      "source": [
        "## 📝 Python Function Arguments\n",
        "\n",
        "Functions can take **arguments (parameters)** so they can work with different inputs.\n",
        "\n",
        "**Types of arguments**  \n",
        "1. **Positional arguments**: matched by position.  \n",
        "2. **Keyword arguments**: specify parameter names in the call.  \n",
        "3. **Default arguments**: use default value if none is provided.  \n",
        "4. **Variable-length arguments**:  \n",
        "   - `*args` for multiple positional arguments (tuple)  \n",
        "   - `**kwargs` for multiple keyword arguments (dictionary)  \n"
      ],
      "id": "VfDb2K-Oym0N"
    },
    {
      "cell_type": "code",
      "metadata": {
        "id": "tbo0tBoHym0O"
      },
      "execution_count": null,
      "outputs": [],
      "source": [
        "def add(a, b):\n",
        "    return a + b\n",
        "\n",
        "print(add(2, 3))                  # positional\n",
        "print(add(a=5, b=7))              # keyword\n",
        "\n",
        "def greet(name=\"Guest\"):\n",
        "    print(\"Hello\", name)\n",
        "\n",
        "greet()\n",
        "greet(\"Alex\")\n",
        "\n",
        "def demo_args(*args, **kwargs):\n",
        "    print(\"args:\", args)\n",
        "    print(\"kwargs:\", kwargs)\n",
        "\n",
        "demo_args(1,2,3, x=10, y=20)"
      ],
      "id": "tbo0tBoHym0O"
    },
    {
      "cell_type": "markdown",
      "metadata": {
        "id": "wD1c9OReym0O"
      },
      "source": [
        "## 🎯 Python Variable Scope\n",
        "\n",
        "**Scope** determines where a variable is accessible.\n",
        "\n",
        "**Types of scope**  \n",
        "- **Local scope**: variables created inside a function are local.  \n",
        "- **Enclosing scope**: nested function can access variables from its parent function.  \n",
        "- **Global scope**: variables defined at the top level are global.  \n",
        "- **Built-in scope**: names that are always available (like `len`, `print`).  \n",
        "\n",
        "This is called the **LEGB rule** (Local → Enclosing → Global → Built-in).  \n"
      ],
      "id": "wD1c9OReym0O"
    },
    {
      "cell_type": "code",
      "metadata": {
        "id": "1wbG4USQym0P"
      },
      "execution_count": null,
      "outputs": [],
      "source": [
        "x = 10  # global variable\n",
        "\n",
        "def outer():\n",
        "    y = 20  # enclosing variable\n",
        "    def inner():\n",
        "        z = 30  # local variable\n",
        "        print(\"x:\", x, \"| y:\", y, \"| z:\", z)\n",
        "    inner()\n",
        "\n",
        "outer()"
      ],
      "id": "1wbG4USQym0P"
    },
    {
      "cell_type": "markdown",
      "metadata": {
        "id": "dJCSNuo9ym0P"
      },
      "source": [
        "## 🌍 Python Global Keyword\n",
        "\n",
        "Normally, variables inside a function are local. To modify a global variable inside a function, we use the **global** keyword.  \n"
      ],
      "id": "dJCSNuo9ym0P"
    },
    {
      "cell_type": "code",
      "metadata": {
        "id": "KzwoPHWqym0P"
      },
      "execution_count": null,
      "outputs": [],
      "source": [
        "counter = 0\n",
        "\n",
        "def increase():\n",
        "    global counter\n",
        "    counter += 1\n",
        "\n",
        "increase()\n",
        "increase()\n",
        "print(\"counter:\", counter)"
      ],
      "id": "KzwoPHWqym0P"
    },
    {
      "cell_type": "markdown",
      "metadata": {
        "id": "T3oAY59Eym0P"
      },
      "source": [
        "## 🔄 Python Recursion\n",
        "\n",
        "**Recursion** is when a function calls itself to solve a problem.\n",
        "\n",
        "**Why use recursion**  \n",
        "- Break complex problems into smaller subproblems  \n",
        "- Common in mathematical problems (factorial, Fibonacci)  \n",
        "- Useful in tree or graph traversal  \n",
        "\n",
        "⚠️ Every recursive function needs a **base case** to stop the recursion.  \n"
      ],
      "id": "T3oAY59Eym0P"
    },
    {
      "cell_type": "code",
      "metadata": {
        "id": "53HIaTciym0Q"
      },
      "execution_count": null,
      "outputs": [],
      "source": [
        "# Factorial using recursion\n",
        "def factorial(n):\n",
        "    if n == 0 or n == 1:   # base case\n",
        "        return 1\n",
        "    else:\n",
        "        return n * factorial(n-1)\n",
        "\n",
        "print(\"factorial(5):\", factorial(5))"
      ],
      "id": "53HIaTciym0Q"
    },
    {
      "cell_type": "markdown",
      "metadata": {
        "id": "9U_Pn-Tzym0Q"
      },
      "source": [
        "## 📦 Python Modules\n",
        "\n",
        "A **module** is a file containing Python code (functions, classes, variables).  \n",
        "Modules help organize code into separate files for reuse.\n",
        "\n",
        "**How to use a module**  \n",
        "- Use `import module_name`  \n",
        "- Use `from module_name import something`  \n"
      ],
      "id": "9U_Pn-Tzym0Q"
    },
    {
      "cell_type": "code",
      "metadata": {
        "id": "xTYxWRNcym0Q"
      },
      "execution_count": null,
      "outputs": [],
      "source": [
        "# Using the built-in math module\n",
        "import math\n",
        "\n",
        "print(\"pi:\", math.pi)\n",
        "print(\"sqrt(16):\", math.sqrt(16))\n",
        "\n",
        "from math import factorial\n",
        "print(\"factorial(5):\", factorial(5))"
      ],
      "id": "xTYxWRNcym0Q"
    },
    {
      "cell_type": "markdown",
      "metadata": {
        "id": "MonUQUm1ym0Q"
      },
      "source": [
        "## 📚 Python Package\n",
        "\n",
        "A **package** is a collection of modules in a directory with a special `__init__.py` file.  \n",
        "Packages allow grouping related modules together.\n",
        "\n",
        "**Example structure**\n",
        "```\n",
        "mypackage/\n",
        "    __init__.py\n",
        "    module1.py\n",
        "    module2.py\n",
        "```\n",
        "You can then import using `import mypackage.module1`.  \n"
      ],
      "id": "MonUQUm1ym0Q"
    },
    {
      "cell_type": "code",
      "metadata": {
        "id": "P4YrSzxKym0Q"
      },
      "execution_count": null,
      "outputs": [],
      "source": [
        "# Example (cannot run here without files)\n",
        "# Suppose we have mypackage/module1.py with a function say_hello()\n",
        "\n",
        "# import mypackage.module1\n",
        "# mypackage.module1.say_hello()\n",
        "\n",
        "print(\"Packages group related modules together!\")"
      ],
      "id": "P4YrSzxKym0Q"
    },
    {
      "cell_type": "markdown",
      "metadata": {
        "id": "I5ZpAAbMym0Q"
      },
      "source": [
        "## 🏁 Python Main Function\n",
        "\n",
        "When a Python file is run directly, the special variable `__name__` is set to `\"__main__\"`.  \n",
        "This allows code to distinguish between **running as a script** vs **being imported as a module**.\n",
        "\n",
        "**Why use it**  \n",
        "- To run some code only when the file is executed directly  \n",
        "- To prevent code from running when the file is imported into another script  \n"
      ],
      "id": "I5ZpAAbMym0Q"
    },
    {
      "cell_type": "code",
      "metadata": {
        "id": "SHJYAMJkym0R"
      },
      "execution_count": null,
      "outputs": [],
      "source": [
        "# Example main.py\n",
        "def main():\n",
        "    print(\"This runs when executed directly.\")\n",
        "\n",
        "if __name__ == \"__main__\":\n",
        "    main()\n"
      ],
      "id": "SHJYAMJkym0R"
    }
  ],
  "metadata": {
    "kernelspec": {
      "display_name": "Python 3",
      "language": "python",
      "name": "python3"
    },
    "language_info": {
      "name": "python",
      "version": "3",
      "mimetype": "text/x-python",
      "codemirror_mode": {
        "name": "ipython",
        "version": 3
      },
      "pygments_lexer": "ipython3",
      "nbconvert_exporter": "python",
      "file_extension": ".py"
    },
    "created": "2025-08-29T17:04:33.403599Z",
    "colab": {
      "provenance": []
    }
  },
  "nbformat": 4,
  "nbformat_minor": 5
}