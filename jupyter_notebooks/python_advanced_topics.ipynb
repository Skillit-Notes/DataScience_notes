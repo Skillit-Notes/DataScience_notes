{
  "cells": [
    {
      "cell_type": "markdown",
      "metadata": {
        "id": "ov43teJp1Z-t"
      },
      "source": [
        "# Python Advanced Concepts\n",
        "\n",
        "---\n",
        "\n",
        "## Table of Contents\n",
        "1. [List Comprehension](#list-comprehension)\n",
        "2. [Python Lambda / Anonymous Function](#python-lambda-anonymous-function)\n",
        "3. [Python Iterators](#python-iterators)\n",
        "4. [Python Generators](#python-generators)\n",
        "5. [Python Namespace and Scope](#python-namespace-and-scope)\n",
        "6. [Python Closures](#python-closures)\n",
        "7. [Python Decorators](#python-decorators)\n",
        "8. [Python @property Decorator](#python-property-decorator)\n",
        "9. [Python RegEx](#python-regex)\n"
      ],
      "id": "ov43teJp1Z-t"
    },
    {
      "cell_type": "markdown",
      "metadata": {
        "id": "Q5ueVPGc1Z-v"
      },
      "source": [
        "## 📋 List Comprehension\n",
        "\n",
        "### 🔹 What is a List Comprehension?  \n",
        "A **list comprehension** is a compact way to create a new list from an existing sequence.  \n",
        "It lets you combine looping, transforming, and filtering in a **single expression** instead of several lines of code.\n",
        "\n",
        "### 🔹 Why is it useful?  \n",
        "- It avoids repetitive patterns like `for` loops with `.append()`.  \n",
        "- It makes your intention very clear: “build a new list from this data, transformed in this way.”  \n",
        "- It often runs faster because Python optimizes comprehensions internally.\n",
        "\n",
        "### 🔹 When should you use it?  \n",
        "- Whenever you are transforming one sequence into another.  \n",
        "- When filtering elements based on a condition.  \n",
        "- When combining multiple sequences into pairs or flattened results.  \n"
      ],
      "id": "Q5ueVPGc1Z-v"
    },
    {
      "cell_type": "code",
      "metadata": {
        "id": "JtC6_C9i1Z-w"
      },
      "execution_count": null,
      "outputs": [],
      "source": [
        "# Traditional way\n",
        "squares = []\n",
        "for n in range(1, 6):\n",
        "    squares.append(n*n)\n",
        "print(\"Squares (loop):\", squares)\n",
        "\n",
        "# List comprehension\n",
        "squares_comp = [n*n for n in range(1, 6)]\n",
        "print(\"Squares (LC):\", squares_comp)\n",
        "\n",
        "# With condition\n",
        "evens = [n for n in range(10) if n % 2 == 0]\n",
        "print(\"Even numbers:\", evens)"
      ],
      "id": "JtC6_C9i1Z-w"
    },
    {
      "cell_type": "markdown",
      "metadata": {
        "id": "tyRw0UcZ1Z-w"
      },
      "source": [
        "## 📝 Lambda Functions (Anonymous Functions)\n",
        "\n",
        "### 🔹 What is a Lambda?  \n",
        "A **lambda function** is a small, unnamed function written in a single line.  \n",
        "It can take any number of inputs but must have exactly one expression that produces a result.\n",
        "\n",
        "### 🔹 Why are lambdas used?  \n",
        "- For **short, throwaway functions** you don’t want to formally define.  \n",
        "- For passing small bits of logic to higher-order functions like `map()`, `filter()`, and `sorted()`.  \n",
        "- They keep code concise when defining a full function would be overkill.\n",
        "\n",
        "### 🔹 Key points to remember  \n",
        "- Lambdas don’t replace normal functions. They are best for *very simple* tasks.  \n",
        "- A lambda returns its expression result automatically, without needing `return`.  \n",
        "- Because they have no name, they are often used “inline” where needed.  "
      ],
      "id": "tyRw0UcZ1Z-w"
    },
    {
      "cell_type": "code",
      "metadata": {
        "id": "7d__LBhc1Z-x"
      },
      "execution_count": null,
      "outputs": [],
      "source": [
        "# Normal function\n",
        "def add(a, b):\n",
        "    return a + b\n",
        "\n",
        "# Lambda equivalent\n",
        "add_lambda = lambda a, b: a + b\n",
        "\n",
        "print(\"add(2,3):\", add(2,3))\n",
        "print(\"add_lambda(2,3):\", add_lambda(2,3))\n",
        "\n",
        "# With map/filter\n",
        "nums = [1, 2, 3, 4]\n",
        "squared = list(map(lambda x: x*x, nums))\n",
        "print(\"Squared:\", squared)"
      ],
      "id": "7d__LBhc1Z-x"
    },
    {
      "cell_type": "markdown",
      "metadata": {
        "id": "6eoXYSPy1Z-x"
      },
      "source": [
        "## 🔁 Iterators\n",
        "\n",
        "### 🔹 What is an Iterator?  \n",
        "An **iterator** is an object that produces values one at a time when you ask for them.  \n",
        "This makes it possible to loop over large or infinite sequences without holding them all in memory.\n",
        "\n",
        "### 🔹 How do iterators work?  \n",
        "- An iterator remembers its position in the sequence.  \n",
        "- Each time you ask for the next item, it gives you that item and moves forward.  \n",
        "- When it runs out of items, it signals the end with a special exception.  \n",
        "\n",
        "### 🔹 Why are they important?  \n",
        "- Iterators power the `for` loop in Python.  \n",
        "- They make it possible to loop through any “iterable” object (lists, strings, files, etc.).  \n",
        "- They provide a common protocol for accessing data sequentially.  "
      ],
      "id": "6eoXYSPy1Z-x"
    },
    {
      "cell_type": "code",
      "metadata": {
        "id": "09ypCjR11Z-x"
      },
      "execution_count": null,
      "outputs": [],
      "source": [
        "nums = [10, 20, 30]\n",
        "it = iter(nums)\n",
        "\n",
        "print(next(it))  # 10\n",
        "print(next(it))  # 20\n",
        "print(next(it))  # 30\n",
        "# next(it)  # would raise StopIteration"
      ],
      "id": "09ypCjR11Z-x"
    },
    {
      "cell_type": "markdown",
      "metadata": {
        "id": "a85m2dMW1Z-x"
      },
      "source": [
        "## 🔄 Generators\n",
        "\n",
        "### 🔹 What is a Generator?  \n",
        "A **generator** is a special kind of iterator that you create with a function.  \n",
        "Instead of returning a complete list, the function uses the `yield` keyword to give back values one at a time.\n",
        "\n",
        "### 🔹 Why use Generators?  \n",
        "- They save memory by producing values only when needed.  \n",
        "- They can represent infinite or very large sequences.  \n",
        "- They pause and resume automatically, remembering where they left off.  \n",
        "\n",
        "### 🔹 Everyday uses  \n",
        "- Reading very large files line by line.  \n",
        "- Producing streams of data (like sensor readings).  \n",
        "- Implementing algorithms that don’t need the whole dataset in memory."
      ],
      "id": "a85m2dMW1Z-x"
    },
    {
      "cell_type": "code",
      "metadata": {
        "id": "2GQCaK4F1Z-x"
      },
      "execution_count": null,
      "outputs": [],
      "source": [
        "def countdown(n):\n",
        "    while n > 0:\n",
        "        yield n\n",
        "        n -= 1\n",
        "\n",
        "for x in countdown(3):\n",
        "    print(x)"
      ],
      "id": "2GQCaK4F1Z-x"
    },
    {
      "cell_type": "markdown",
      "metadata": {
        "id": "hbbOrCXS1Z-y"
      },
      "source": [
        "## 🎯 Namespaces and Scope\n",
        "\n",
        "### 🔹 What is a Namespace?  \n",
        "A **namespace** is like a dictionary that maps names to objects.  \n",
        "Every variable, function, and class lives inside some namespace.\n",
        "\n",
        "### 🔹 What is Scope?  \n",
        "**Scope** is the current area of your program where a name is visible.  \n",
        "When you refer to a variable, Python searches for it in a specific order:  \n",
        "\n",
        "**LEGB Rule**:\n",
        "1. **Local** – variables defined inside the current function.  \n",
        "2. **Enclosing** – variables in outer functions (when functions are nested).  \n",
        "3. **Global** – variables defined at the top of the module.  \n",
        "4. **Built-in** – names provided by Python itself (like `len`, `sum`).  \n",
        "\n",
        "### 🔹 Why is this important?  \n",
        "Understanding scope helps you:  \n",
        "- Avoid accidental overwriting of variables.  \n",
        "- Know why some variables are not accessible in certain places.  \n",
        "- Debug “NameError” problems with confidence.  "
      ],
      "id": "hbbOrCXS1Z-y"
    },
    {
      "cell_type": "code",
      "metadata": {
        "id": "HsrC2x2o1Z-y"
      },
      "execution_count": null,
      "outputs": [],
      "source": [
        "x = \"global\"\n",
        "\n",
        "def outer():\n",
        "    x = \"enclosing\"\n",
        "    def inner():\n",
        "        x = \"local\"\n",
        "        print(\"Inner:\", x)\n",
        "    inner()\n",
        "    print(\"Outer:\", x)\n",
        "\n",
        "outer()\n",
        "print(\"Global:\", x)"
      ],
      "id": "HsrC2x2o1Z-y"
    },
    {
      "cell_type": "markdown",
      "metadata": {
        "id": "taTBZYbM1Z-y"
      },
      "source": [
        "## 🧩 Closures\n",
        "\n",
        "### 🔹 What is a Closure?  \n",
        "A **closure** is a function that “remembers” the variables from the place where it was created, even after that place is gone.  \n",
        "\n",
        "### 🔹 Why are closures powerful?  \n",
        "- They allow functions to have **memory** of the context in which they were built.  \n",
        "- They are the foundation for decorators and advanced functional programming in Python.  \n",
        "- They let you build specialized functions with built-in behavior.  \n",
        "\n",
        "### 🔹 A simple mental model  \n",
        "Think of closures as “functions + environment.”  \n",
        "When you return a function from another function, the returned function carries along the variables it needs from the outer function.  \n"
      ],
      "id": "taTBZYbM1Z-y"
    },
    {
      "cell_type": "code",
      "metadata": {
        "id": "l7cYCZp41Z-y"
      },
      "execution_count": null,
      "outputs": [],
      "source": [
        "def make_multiplier(factor):\n",
        "    def multiply(x):\n",
        "        return x * factor  # remembers 'factor'\n",
        "    return multiply\n",
        "\n",
        "times2 = make_multiplier(2)\n",
        "times3 = make_multiplier(3)\n",
        "\n",
        "print(\"times2(5):\", times2(5))\n",
        "print(\"times3(5):\", times3(5))"
      ],
      "id": "l7cYCZp41Z-y"
    },
    {
      "cell_type": "markdown",
      "metadata": {
        "id": "0gOcbHYB1Z-y"
      },
      "source": [
        "## 🛠️ Decorators\n",
        "\n",
        "### 🔹 What is a Decorator?  \n",
        "A **decorator** is a function that modifies or enhances another function, without changing its code.  \n",
        "It “wraps” the target function with extra behavior.  \n",
        "\n",
        "### 🔹 Why use decorators?  \n",
        "- To reuse common logic across many functions (logging, timing, access control).  \n",
        "- To separate *what a function does* from *extra concerns around it*.  \n",
        "- To keep code clean and expressive with the `@decorator` syntax.  \n",
        "\n",
        "### 🔹 Key insight  \n",
        "Decorators work because in Python, functions are objects. They can be passed, returned, and wrapped by other functions.  \n"
      ],
      "id": "0gOcbHYB1Z-y"
    },
    {
      "cell_type": "code",
      "metadata": {
        "id": "96MIepg51Z-y"
      },
      "execution_count": null,
      "outputs": [],
      "source": [
        "def my_decorator(func):\n",
        "    def wrapper():\n",
        "        print(\"Before function\")\n",
        "        func()\n",
        "        print(\"After function\")\n",
        "    return wrapper\n",
        "\n",
        "@my_decorator\n",
        "def say_hello():\n",
        "    print(\"Hello!\")\n",
        "\n",
        "say_hello()"
      ],
      "id": "96MIepg51Z-y"
    },
    {
      "cell_type": "markdown",
      "metadata": {
        "id": "LBBPz6wT1Z-y"
      },
      "source": [
        "## 🏷️ The @property Decorator\n",
        "\n",
        "### 🔹 What is @property?  \n",
        "The `@property` decorator is a special type of decorator used inside classes.  \n",
        "It allows you to treat a method like an attribute, adding logic behind attribute access.\n",
        "\n",
        "### 🔹 Why use it?  \n",
        "- To **control access** to internal data while keeping a clean interface.  \n",
        "- To **validate or transform values** before setting them.  \n",
        "- To make attributes behave dynamically (calculated on demand).  \n",
        "\n",
        "### 🔹 Without @property vs with @property  \n",
        "Traditionally, you’d write getter and setter methods.  \n",
        "With `@property`, users of the class can simply use `obj.attr`, while you still have full control behind the scenes.  \n"
      ],
      "id": "LBBPz6wT1Z-y"
    },
    {
      "cell_type": "code",
      "metadata": {
        "id": "GJ-m-Rs11Z-y"
      },
      "execution_count": null,
      "outputs": [],
      "source": [
        "class Circle:\n",
        "    def __init__(self, radius):\n",
        "        self._radius = radius\n",
        "\n",
        "    @property\n",
        "    def radius(self):\n",
        "        return self._radius\n",
        "\n",
        "    @radius.setter\n",
        "    def radius(self, value):\n",
        "        if value < 0:\n",
        "            raise ValueError(\"Radius must be non-negative\")\n",
        "        self._radius = value\n",
        "\n",
        "    @property\n",
        "    def area(self):\n",
        "        from math import pi\n",
        "        return pi * self._radius ** 2\n",
        "\n",
        "c = Circle(5)\n",
        "print(\"Radius:\", c.radius)\n",
        "print(\"Area:\", c.area)\n",
        "c.radius = 10\n",
        "print(\"New area:\", c.area)"
      ],
      "id": "GJ-m-Rs11Z-y"
    },
    {
      "cell_type": "markdown",
      "metadata": {
        "id": "Y_RCgSme1Z-z"
      },
      "source": [
        "## 🔎 Regular Expressions (RegEx)\n",
        "\n",
        "### 🔹 What is RegEx?  \n",
        "A **Regular Expression** is a mini-language for describing text patterns.  \n",
        "It allows you to search, match, and manipulate strings with great flexibility.\n",
        "\n",
        "### 🔹 Why use RegEx?  \n",
        "- To validate inputs like emails, phone numbers, or postal codes.  \n",
        "- To extract meaningful data from text, like all numbers or dates in a document.  \n",
        "- To replace parts of a string based on a pattern, not just exact matches.  \n",
        "\n",
        "### 🔹 How does it work?  \n",
        "Instead of matching fixed text, regex lets you describe a **pattern**:  \n",
        "- Digits, letters, whitespace, or special characters.  \n",
        "- Quantities like “one or more” or “exactly three”.  \n",
        "- Positions like “at the beginning of a line” or “at the end of a word”.  \n",
        "\n",
        "### 🔹 Key idea for beginners  \n",
        "Regex looks scary at first because of its symbols, but it is just a set of rules for matching text.  \n",
        "Learning a few basics (like `\\d` for digits, `\\w` for letters/numbers, `.` for any character, and `*` for repetition) will take you a long way.  "
      ],
      "id": "Y_RCgSme1Z-z"
    },
    {
      "cell_type": "code",
      "metadata": {
        "id": "3MllDwh51Z-z"
      },
      "execution_count": null,
      "outputs": [],
      "source": [
        "import re\n",
        "\n",
        "text = \"My email is test@example.com and my phone is 123-456-7890\"\n",
        "\n",
        "# Find email\n",
        "email = re.search(r\"[\\w.-]+@[\\w.-]+\", text)\n",
        "print(\"Email:\", email.group())\n",
        "\n",
        "# Find all numbers\n",
        "numbers = re.findall(r\"\\d+\", text)\n",
        "print(\"Numbers:\", numbers)\n",
        "\n",
        "# Replace digits with X\n",
        "masked = re.sub(r\"\\d\", \"X\", text)\n",
        "print(\"Masked:\", masked)"
      ],
      "id": "3MllDwh51Z-z"
    },
    {
      "cell_type": "markdown",
      "source": [
        "# Python Built-in Functions: map, filter, zip, enumerate\n",
        "\n",
        "Python provides several built-in functions that simplify common operations on lists and other iterables. These functions help make your code more concise, readable, and efficient.\n",
        "\n",
        "---\n",
        "\n",
        "## 1. `map(function, iterable)`\n",
        "- Applies a given function to **every element** in an iterable.\n",
        "- Returns a `map` object (which can be converted to a list, tuple, etc.).\n",
        "- Useful when you want to **transform** data element by element.\n",
        "\n",
        "---\n",
        "\n",
        "## 2. `filter(function, iterable)`\n",
        "- Applies a function that returns `True` or `False` to each element.\n",
        "- Keeps only the elements where the function returns `True`.\n",
        "- Useful when you want to **filter out** unwanted data.\n",
        "\n",
        "---\n",
        "\n",
        "## 3. `zip(iter1, iter2, ...)`\n",
        "- Combines two or more iterables into a sequence of tuples.\n",
        "- Each tuple contains elements from the same position in each iterable.\n",
        "- Useful when you want to **merge lists element by element**.\n",
        "\n",
        "---\n",
        "\n",
        "## 4. `enumerate(iterable, start=0)`\n",
        "- Adds an **index (counter)** to each element in an iterable.\n",
        "- Returns pairs of `(index, element)`.\n",
        "- Useful when you need both the **position** and the **value** while looping.\n"
      ],
      "metadata": {
        "id": "gAsmzb39Qt-P"
      },
      "id": "gAsmzb39Qt-P"
    },
    {
      "cell_type": "code",
      "source": [
        "# Examples for map, filter, zip, and enumerate\n",
        "\n",
        "# 1. map() - square each number\n",
        "numbers = [1, 2, 3, 4, 5]\n",
        "squares = map(lambda x: x**2, numbers)\n",
        "print(list(squares))\n",
        "\n",
        "# 2. filter() - keep only even numbers\n",
        "nums = [10, 15, 20, 25, 30]\n",
        "evens = filter(lambda x: x % 2 == 0, nums)\n",
        "print(list(evens))\n",
        "\n",
        "# 3. zip() - pair names with scores\n",
        "names = [\"Alice\", \"Bob\", \"Charlie\"]\n",
        "scores = [85, 92, 78]\n",
        "paired = zip(names, scores)\n",
        "print(list(paired))\n",
        "\n",
        "# 4. enumerate() - add index to fruits\n",
        "fruits = [\"apple\", \"banana\", \"cherry\"]\n",
        "for index, fruit in enumerate(fruits, start=1):\n",
        "    print(index, fruit)\n"
      ],
      "metadata": {
        "id": "pBMcEeY2QeDo"
      },
      "id": "pBMcEeY2QeDo",
      "execution_count": null,
      "outputs": []
    }
  ],
  "metadata": {
    "kernelspec": {
      "display_name": "Python 3",
      "language": "python",
      "name": "python3"
    },
    "language_info": {
      "name": "python",
      "version": "3",
      "mimetype": "text/x-python",
      "codemirror_mode": {
        "name": "ipython",
        "version": 3
      },
      "pygments_lexer": "ipython3",
      "nbconvert_exporter": "python",
      "file_extension": ".py"
    },
    "created": "2025-08-29T17:17:03.200834Z",
    "colab": {
      "provenance": []
    }
  },
  "nbformat": 4,
  "nbformat_minor": 5
}