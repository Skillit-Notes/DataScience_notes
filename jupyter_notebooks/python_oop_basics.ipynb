{
  "cells": [
    {
      "cell_type": "markdown",
      "metadata": {
        "id": "EJuCY0Cb0lIg"
      },
      "source": [
        "# Python Object-Oriented Programming .\n",
        "\n",
        "---\n",
        "\n",
        "## Table of Contents\n",
        "1. [Python Objects and Classes](#python-objects-and-classes)\n",
        "2. [Python Inheritance](#python-inheritance)\n",
        "3. [Python Multiple Inheritance](#python-multiple-inheritance)\n",
        "4. [Polymorphism in Python](#polymorphism-in-python)\n",
        "5. [Python Operator Overloading](#python-operator-overloading)\n"
      ],
      "id": "EJuCY0Cb0lIg"
    },
    {
      "cell_type": "markdown",
      "metadata": {
        "id": "_BUEkbeM0lIk"
      },
      "source": [
        "## Python Objects and Classes\n",
        "\n",
        "In Python, **everything is an object**: numbers, strings, lists, functions, and even classes themselves.\n",
        "Objects bundle **data** (attributes) with **behavior** (methods). A **class** is the *blueprint* used to create objects (also called *instances*).\n",
        "\n",
        "### Core ideas\n",
        "- **Class**: defines what data and behavior instances will have.\n",
        "- **Object / instance**: a concrete thing created from a class.\n",
        "- **Attribute**: a variable stored on an object (data).\n",
        "- **Method**: a function defined in the class that operates on the object.\n",
        "- **`__init__`**: the *initializer* that runs when you create an instance.\n",
        "- **`self`**: the instance itself, passed automatically to methods.\n",
        "\n",
        "### Instance vs class attributes\n",
        "- **Instance attribute**: unique per object (e.g., each `Student` has their own `name`).\n",
        "- **Class attribute**: shared by all instances (e.g., `school_name` for all students).\n"
      ],
      "id": "_BUEkbeM0lIk"
    },
    {
      "cell_type": "code",
      "metadata": {
        "id": "08XDoQt60lIl"
      },
      "execution_count": null,
      "outputs": [],
      "source": [
        "# A simple class with instance and class attributes, and methods\n",
        "class Student:\n",
        "    school_name = \"Green Valley High\"  # class attribute (shared)\n",
        "\n",
        "    def __init__(self, name, year):\n",
        "        self.name = name     # instance attribute\n",
        "        self.year = year     # instance attribute\n",
        "\n",
        "    def description(self):   # instance method\n",
        "        return f\"{self.name} (Year {self.year}) @ {Student.school_name}\"\n",
        "\n",
        "# Create instances\n",
        "s1 = Student(\"Maya\", 10)\n",
        "s2 = Student(\"Omar\", 11)\n",
        "\n",
        "print(s1.description())\n",
        "print(s2.description())\n",
        "\n",
        "# Changing an instance attribute affects only that instance\n",
        "s1.year = 12\n",
        "print(\"After update:\", s1.description())\n",
        "\n",
        "# Changing the class attribute affects *all* instances (unless shadowed on the instance)\n",
        "Student.school_name = \"Riverdale High\"\n",
        "print(s1.description())\n",
        "print(s2.description())"
      ],
      "id": "08XDoQt60lIl"
    },
    {
      "cell_type": "markdown",
      "metadata": {
        "id": "mAAwLgp-0lIn"
      },
      "source": [
        "## Python Inheritance\n",
        "\n",
        "**Inheritance** lets a class (the *child* or *subclass*) reuse and extend behavior from another class (the *parent* or *base* class).  \n",
        "This avoids repetition and models *is-a* relationships.\n",
        "\n",
        "### Core ideas\n",
        "- A subclass **inherits** attributes and methods from its parent class.\n",
        "- You can **override** methods to change or extend behavior.\n",
        "- Use **`super()`** inside a subclass to call the parent’s version (commonly in `__init__`)."
      ],
      "id": "mAAwLgp-0lIn"
    },
    {
      "cell_type": "code",
      "metadata": {
        "id": "-Ostoo6O0lIn"
      },
      "execution_count": null,
      "outputs": [],
      "source": [
        "# Base class\n",
        "class Animal:\n",
        "    def __init__(self, name):\n",
        "        self.name = name\n",
        "\n",
        "    def speak(self):\n",
        "        return \"(generic animal sound)\"\n",
        "\n",
        "# Subclasses\n",
        "class Dog(Animal):\n",
        "    def speak(self):                 # override\n",
        "        return \"Woof\"\n",
        "\n",
        "class Cat(Animal):\n",
        "    def speak(self):                 # override\n",
        "        return \"Meow\"\n",
        "\n",
        "class Bird(Animal):\n",
        "    def __init__(self, name, can_fly=True):\n",
        "        super().__init__(name)       # call Animal.__init__\n",
        "        self.can_fly = can_fly\n",
        "\n",
        "    def speak(self):\n",
        "        return \"Tweet\"\n",
        "\n",
        "pets = [Dog(\"Rocco\"), Cat(\"Luna\"), Bird(\"Kiwi\", can_fly=False)]\n",
        "for p in pets:\n",
        "    print(f\"{p.name}: {p.speak()}\")"
      ],
      "id": "-Ostoo6O0lIn"
    },
    {
      "cell_type": "markdown",
      "metadata": {
        "id": "etw7zuyK0lIo"
      },
      "source": [
        "## Python Multiple Inheritance\n",
        "\n",
        "Python supports **multiple inheritance**, where a class can inherit from **more than one base class**.  \n",
        "This is powerful but requires understanding the **Method Resolution Order (MRO)**—the order Python uses to search for attributes/methods.\n",
        "\n",
        "### Core ideas\n",
        "- Define a subclass with multiple bases: `class C(A, B): ...`\n",
        "- Python computes an **MRO** to decide which parent to check first.\n",
        "- `super()` cooperates across the MRO so each parent gets initialized once (avoid calling parent classes directly)."
      ],
      "id": "etw7zuyK0lIo"
    },
    {
      "cell_type": "code",
      "metadata": {
        "id": "RdBS2Sbd0lIo"
      },
      "execution_count": null,
      "outputs": [],
      "source": [
        "class Flyer:\n",
        "    def __init__(self, *args, **kwargs):\n",
        "        super().__init__(*args, **kwargs)\n",
        "        self.wings = 2\n",
        "    def move(self):\n",
        "        return \"flying\"\n",
        "\n",
        "class Swimmer:\n",
        "    def __init__(self, *args, **kwargs):\n",
        "        super().__init__(*args, **kwargs)\n",
        "        self.fins = 2\n",
        "    def move(self):\n",
        "        return \"swimming\"\n",
        "\n",
        "class Duck(Flyer, Swimmer):  # multiple inheritance\n",
        "    def __init__(self, name):\n",
        "        super().__init__()\n",
        "        self.name = name\n",
        "\n",
        "    def move(self):  # override: choose a behavior\n",
        "        # Optionally pick one parent's behavior with explicit call:\n",
        "        return f\"{self.name} is {Flyer.move(self)} and {Swimmer.move(self)}\"\n",
        "\n",
        "d = Duck(\"Daffy\")\n",
        "print(d.move())\n",
        "print(\"MRO:\", [cls.__name__ for cls in Duck.mro()])"
      ],
      "id": "RdBS2Sbd0lIo"
    },
    {
      "cell_type": "markdown",
      "metadata": {
        "id": "avV_NOGr0lIo"
      },
      "source": [
        "## Polymorphism in Python\n",
        "\n",
        "**Polymorphism** means “many forms”. In OOP it allows **different objects to be used through the same interface**.  \n",
        "In Python, this often relies on **duck typing**: “If it quacks like a duck, it’s a duck.”\n",
        "\n",
        "### Core ideas\n",
        "- Write functions that operate on any object that provides the needed methods, not a specific type.\n",
        "- Method **overriding** in subclasses is a common way to achieve polymorphism.\n",
        "- Built-ins like `len()` are polymorphic: they work with strings, lists, tuples, etc., by calling each type’s `__len__` method under the hood.\n"
      ],
      "id": "avV_NOGr0lIo"
    },
    {
      "cell_type": "code",
      "metadata": {
        "id": "7XEbPcVl0lIp"
      },
      "execution_count": null,
      "outputs": [],
      "source": [
        "def announce(animal):\n",
        "    # Works for any object that has .speak()\n",
        "    print(\"Announcement:\", animal.speak())\n",
        "\n",
        "class RobotDog:\n",
        "    def speak(self):\n",
        "        return \"Beep-woof\"\n",
        "\n",
        "class Human:\n",
        "    def speak(self):\n",
        "        return \"Hello\"\n",
        "\n",
        "announce(RobotDog())\n",
        "announce(Human())\n",
        "\n",
        "# Another example: polymorphic length\n",
        "print(len(\"hello\"), len([1,2,3]), len((10,20)))"
      ],
      "id": "7XEbPcVl0lIp"
    },
    {
      "cell_type": "markdown",
      "metadata": {
        "id": "XL57mt9h0lIp"
      },
      "source": [
        "## Python Operator Overloading\n",
        "\n",
        "**Operator overloading** lets your classes define how built-in operators (like `+`, `==`, `<`) behave for your objects.  \n",
        "You do this by implementing **special methods** (also called “dunder” methods, like `__add__`, `__eq__`, `__lt__`, etc.).\n",
        "\n",
        "### Common special methods\n",
        "- Construction/representation: `__init__`, `__repr__`, `__str__`\n",
        "- Arithmetic: `__add__` `__sub__` `__mul__` `__truediv__` `__floordiv__` `__mod__` `__pow__`\n",
        "- Comparisons: `__eq__` `__ne__` `__lt__` `__le__` `__gt__` `__ge__`\n",
        "- Container/size: `__len__` `__getitem__` `__setitem__` `__iter__`\n"
      ],
      "id": "XL57mt9h0lIp"
    },
    {
      "cell_type": "code",
      "metadata": {
        "id": "B7ENWnJC0lIp"
      },
      "execution_count": null,
      "outputs": [],
      "source": [
        "# A simple 2D Vector with overloaded operators\n",
        "class Vector2D:\n",
        "    def __init__(self, x, y):\n",
        "        self.x = x\n",
        "        self.y = y\n",
        "\n",
        "    def __repr__(self):\n",
        "        return f\"Vector2D(x={self.x}, y={self.y})\"\n",
        "\n",
        "    # Equality\n",
        "    def __eq__(self, other):\n",
        "        if not isinstance(other, Vector2D):\n",
        "            return NotImplemented\n",
        "        return self.x == other.x and self.y == other.y\n",
        "\n",
        "    # Addition\n",
        "    def __add__(self, other):\n",
        "        if not isinstance(other, Vector2D):\n",
        "            return NotImplemented\n",
        "        return Vector2D(self.x + other.x, self.y + other.y)\n",
        "\n",
        "    # Scalar multiplication (vector * scalar)\n",
        "    def __mul__(self, other):\n",
        "        if isinstance(other, (int, float)):\n",
        "            return Vector2D(self.x * other, self.y * other)\n",
        "        return NotImplemented\n",
        "\n",
        "    # Right-side scalar multiplication (scalar * vector)\n",
        "    def __rmul__(self, other):\n",
        "        return self.__mul__(other)\n",
        "\n",
        "    # Length (magnitude) to show container-like special methods\n",
        "    def __len__(self):\n",
        "        # not a real 'length of container', but for demo: rounded magnitude\n",
        "        from math import hypot\n",
        "        return int(hypot(self.x, self.y))\n",
        "\n",
        "v1 = Vector2D(2, 3)\n",
        "v2 = Vector2D(5, 1)\n",
        "\n",
        "print(\"v1:\", v1)\n",
        "print(\"v2:\", v2)\n",
        "print(\"v1 == v2:\", v1 == v2)\n",
        "print(\"v1 + v2:\", v1 + v2)\n",
        "print(\"2 * v1:\", 2 * v1)\n",
        "print(\"len(v1):\", len(v1))"
      ],
      "id": "B7ENWnJC0lIp"
    }
  ],
  "metadata": {
    "kernelspec": {
      "display_name": "Python 3",
      "language": "python",
      "name": "python3"
    },
    "language_info": {
      "name": "python",
      "version": "3",
      "mimetype": "text/x-python",
      "codemirror_mode": {
        "name": "ipython",
        "version": 3
      },
      "pygments_lexer": "ipython3",
      "nbconvert_exporter": "python",
      "file_extension": ".py"
    },
    "created": "2025-08-29T17:13:12.952157Z",
    "colab": {
      "provenance": []
    }
  },
  "nbformat": 4,
  "nbformat_minor": 5
}