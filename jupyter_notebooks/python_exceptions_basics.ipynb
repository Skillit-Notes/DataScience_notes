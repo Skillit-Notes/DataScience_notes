{
  "cells": [
    {
      "cell_type": "markdown",
      "metadata": {
        "id": "lYVkBh5hzshz"
      },
      "source": [
        "# Python Exceptions and Error Handling\n",
        "\n",
        "---\n",
        "\n",
        "## Table of Contents\n",
        "1. [Python Exceptions](#python-exceptions)\n",
        "2. [Python Exception Handling](#python-exception-handling)\n",
        "3. [Python Custom Exceptions](#python-custom-exceptions)\n"
      ],
      "id": "lYVkBh5hzshz"
    },
    {
      "cell_type": "markdown",
      "metadata": {
        "id": "T0Qm0tdnzsh2"
      },
      "source": [
        "## Python Exceptions\n",
        "\n",
        "**Exceptions** are Python's way of signaling that **something went wrong** during execution.\n",
        "When an error occurs (like dividing by zero or converting text that isn't a number), Python **raises** an exception.\n",
        "If the exception is not handled, the program stops and prints a **traceback** explaining what happened.\n",
        "\n",
        "### Why exceptions exist\n",
        "- To **stop** the program at the exact point where an invalid state occurs.\n",
        "- To **describe** the problem with a clear error type (e.g., `ZeroDivisionError`, `ValueError`, `FileNotFoundError`).\n",
        "- To let you **respond** programmatically (e.g., show a friendly message, retry, or use a default value).\n",
        "\n",
        "### Common built-in exceptions (a few you'll meet early)\n",
        "- `ValueError` — wrong value (e.g., `int(\"abc\")`)\n",
        "- `TypeError` — wrong type for an operation (e.g., `len(5)`)\n",
        "- `ZeroDivisionError` — division by zero\n",
        "- `IndexError` / `KeyError` — missing list index / dict key\n",
        "- `FileNotFoundError` — file path doesn't exist\n",
        "- `NameError` — using a variable that hasn't been defined\n",
        "\n",
        "### Raising an exception\n",
        "Python (or libraries) raises exceptions automatically, but you can also raise them yourself with `raise`.\n"
      ],
      "id": "T0Qm0tdnzsh2"
    },
    {
      "cell_type": "code",
      "metadata": {
        "id": "CmwrdJPgzsh3"
      },
      "execution_count": null,
      "outputs": [],
      "source": [
        "# A few unhandled exceptions (commented to avoid stopping the notebook)\n",
        "\n",
        "# print(10 / 0)            # ZeroDivisionError\n",
        "# int(\"hello\")             # ValueError\n",
        "# [1, 2, 3][10]            # IndexError\n",
        "\n",
        "# You can raise your own exception to enforce rules:\n",
        "def set_age(age):\n",
        "    if age < 0:\n",
        "        raise ValueError(\"age must be non-negative\")\n",
        "    return age\n",
        "\n",
        "print(set_age(5))\n",
        "# print(set_age(-1))  # would raise ValueError"
      ],
      "id": "CmwrdJPgzsh3"
    },
    {
      "cell_type": "markdown",
      "metadata": {
        "id": "WDH8w3MGzsh4"
      },
      "source": [
        "## Python Exception Handling\n",
        "**Handling exceptions** means catching errors so your program can recover or exit gracefully.\n",
        "\n",
        "### The `try` / `except` / `else` / `finally` blocks\n",
        "- `try`: the code that might raise an exception\n",
        "- `except`: what to do **if** a specific exception occurs\n",
        "- `else`: runs **only if no exception** happened in the `try` block\n",
        "- `finally`: runs **no matter what** (useful for cleanup like closing files)\n",
        "\n",
        "### Catching specific exceptions\n",
        "Always catch the **most specific** exceptions you can, not just a blanket `except:`. This avoids hiding unrelated bugs.\n",
        "\n",
        "### Accessing the exception object\n",
        "Use `as e` to capture the exception and read its message or attributes.\n"
      ],
      "id": "WDH8w3MGzsh4"
    },
    {
      "cell_type": "code",
      "metadata": {
        "id": "aG6uVDVmzsh4"
      },
      "execution_count": null,
      "outputs": [],
      "source": [
        "# 1) Basic try/except\n",
        "try:\n",
        "    x = int(\"42\")  # try changing to \"forty two\" to trigger ValueError\n",
        "    print(\"Converted:\", x)\n",
        "except ValueError as e:\n",
        "    print(\"Conversion failed:\", e)\n",
        "\n",
        "# 2) Multiple except blocks, else, finally\n",
        "def safe_divide(a, b):\n",
        "    try:\n",
        "        result = a / b\n",
        "    except ZeroDivisionError as e:\n",
        "        print(\"Cannot divide by zero:\", e)\n",
        "        return None\n",
        "    else:\n",
        "        # runs only if no exception\n",
        "        print(\"Division succeeded\")\n",
        "        return result\n",
        "    finally:\n",
        "        # always runs (cleanup, logging, etc.)\n",
        "        print(\"Finished attempt\")\n",
        "\n",
        "print(\"safe_divide(10, 2):\", safe_divide(10, 2))\n",
        "print(\"safe_divide(5, 0):\", safe_divide(5, 0))\n",
        "\n",
        "# 3) Catching multiple types in one clause\n",
        "try:\n",
        "    data = {\"count\": 3}\n",
        "    print(data[\"total\"])           # KeyError\n",
        "except (KeyError, IndexError) as e:\n",
        "    print(\"Missing item:\", e)\n",
        "\n",
        "# 4) Exception chaining (optional, for context)\n",
        "def parse_age(text):\n",
        "    try:\n",
        "        return int(text)\n",
        "    except ValueError as e:\n",
        "        raise ValueError(f\"Invalid age '{text}'\") from e\n",
        "\n",
        "try:\n",
        "    parse_age(\"ten\")\n",
        "except ValueError as e:\n",
        "    print(\"Chained error:\", e)"
      ],
      "id": "aG6uVDVmzsh4"
    },
    {
      "cell_type": "markdown",
      "metadata": {
        "id": "A--P3Oivzsh5"
      },
      "source": [
        "## Python Custom Exceptions\n",
        "\n",
        "Create **custom exception classes** to represent domain-specific errors in your program.\n",
        "This makes your code easier to understand and handle precisely.\n",
        "\n",
        "### How to define a custom exception\n",
        "- Subclass from `Exception` (or a more specific base class)\n",
        "- Optionally add attributes (e.g., error codes) or custom messages\n",
        "\n",
        "### Why custom exceptions help\n",
        "- Make errors **self-explanatory** (`InvalidOrderStateError`) rather than generic (`ValueError`)\n",
        "- Allow callers to catch **your** exceptions specifically, without catching unrelated ones.\n"
      ],
      "id": "A--P3Oivzsh5"
    },
    {
      "cell_type": "code",
      "metadata": {
        "id": "yx-25VDjzsh5"
      },
      "execution_count": null,
      "outputs": [],
      "source": [
        "# Define a custom exception\n",
        "class InvalidTemperatureError(Exception):\n",
        "    def __init__(self, value, message=\"Temperature must be between -50 and 60\"):\n",
        "        self.value = value\n",
        "        super().__init__(f\"{message}: {value}\")\n",
        "\n",
        "def set_thermostat(celsius):\n",
        "    if not (-50 <= celsius <= 60):\n",
        "        raise InvalidTemperatureError(celsius)\n",
        "    print(f\"Thermostat set to {celsius}°C\")\n",
        "\n",
        "\n",
        "# Using the custom exception\n",
        "try:\n",
        "    set_thermostat(22)\n",
        "    set_thermostat(100)  # will raise InvalidTemperatureError\n",
        "except InvalidTemperatureError as e:\n",
        "    print(\"Custom error:\", e)"
      ],
      "id": "yx-25VDjzsh5"
    }
  ],
  "metadata": {
    "kernelspec": {
      "display_name": "Python 3",
      "language": "python",
      "name": "python3"
    },
    "language_info": {
      "name": "python",
      "version": "3",
      "mimetype": "text/x-python",
      "codemirror_mode": {
        "name": "ipython",
        "version": 3
      },
      "pygments_lexer": "ipython3",
      "nbconvert_exporter": "python",
      "file_extension": ".py"
    },
    "created": "2025-08-29T17:09:15.401070Z",
    "colab": {
      "provenance": []
    }
  },
  "nbformat": 4,
  "nbformat_minor": 5
}