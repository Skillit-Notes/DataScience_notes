{
  "cells": [
    {
      "cell_type": "markdown",
      "metadata": {
        "id": "hxOn6nLWqSoK"
      },
      "source": [
        "# Python Control Flow Basics: If, Loops, and More\n",
        "\n",
        "> Tip: Press **Shift+Enter** to run a cell.\n",
        "\n",
        "---\n",
        "\n",
        "## Table of Contents\n",
        "1. [If Statements (if / if-else / if-elif-else)](#if-statements)\n",
        "2. [Range Function (multiple ways to use it)](#range-function)\n",
        "3. [for Loop](#for-loop)\n",
        "4. [while Loop](#while-loop)\n",
        "5. [break and continue](#break-continue)\n",
        "6. [pass Statement](#pass-statement)\n"
      ],
      "id": "hxOn6nLWqSoK"
    },
    {
      "cell_type": "markdown",
      "source": [
        "## 🔀 If Statements (if / if-else / if-elif-else)\n",
        "\n",
        "**What it is**  \n",
        "`if` statements let your program **make decisions**.  \n",
        "They run a block of code **only if a condition is true**.  \n",
        "\n",
        "**Why / When to use**  \n",
        "- To perform different actions depending on data or user input  \n",
        "- To handle conditions like “only if the user is logged in” or “if the score is above 50”  \n",
        "\n",
        "**Key properties**  \n",
        "- Indentation defines the block to execute  \n",
        "- `if` checks one condition  \n",
        "- `if ... else` provides an alternative when the condition is false  \n",
        "- `if ... elif ... else` allows multiple conditions in order  \n",
        "\n"
      ],
      "metadata": {
        "id": "-0cm5caTve2P"
      },
      "id": "-0cm5caTve2P"
    },
    {
      "cell_type": "markdown",
      "metadata": {
        "id": "jmk4czUzqSoM"
      },
      "source": [
        "## If Statements\n",
        "Python uses indentation (spaces) to define blocks of code. An `if` statement checks a condition and runs the indented block if it's `True`.\n",
        "\n",
        "### Basic `if`\n",
        "Runs the block only when the condition is true.\n"
      ],
      "id": "jmk4czUzqSoM"
    },
    {
      "cell_type": "code",
      "metadata": {
        "id": "SNyhSCj2qSoM"
      },
      "execution_count": null,
      "outputs": [],
      "source": [
        "# Basic if\n",
        "age = 20\n",
        "if age >= 18:  # if the condition evaluates to True, the indented block runs\n",
        "    print(\"You are an adult.\")\n"
      ],
      "id": "SNyhSCj2qSoM"
    },
    {
      "cell_type": "markdown",
      "metadata": {
        "id": "oRkuxQY7qSoN"
      },
      "source": [
        "### `if` - `else`\n",
        "Use `else` to run a block when the `if` condition is **not** true.\n"
      ],
      "id": "oRkuxQY7qSoN"
    },
    {
      "cell_type": "code",
      "metadata": {
        "id": "TpiwYYOrqSoN"
      },
      "execution_count": null,
      "outputs": [],
      "source": [
        "# if - else\n",
        "temperature = 12\n",
        "if temperature >= 20:\n",
        "    print(\"Warm day!\")\n",
        "else:\n",
        "    print(\"A bit chilly!\")"
      ],
      "id": "TpiwYYOrqSoN"
    },
    {
      "cell_type": "markdown",
      "metadata": {
        "id": "hNgT4VAkqSoN"
      },
      "source": [
        "### `if` - `elif` - `else`\n",
        "Use `elif` (\"else if\") to check additional conditions in order, before a final `else`.\n"
      ],
      "id": "hNgT4VAkqSoN"
    },
    {
      "cell_type": "code",
      "metadata": {
        "id": "nFtDXurfqSoN"
      },
      "execution_count": null,
      "outputs": [],
      "source": [
        "# if - elif - else\n",
        "score = 78\n",
        "if score >= 90:\n",
        "    print(\"Grade: A\")\n",
        "elif score >= 80:\n",
        "    print(\"Grade: B\")\n",
        "elif score >= 70:\n",
        "    print(\"Grade: C\")\n",
        "elif score >= 60:\n",
        "    print(\"Grade: D\")\n",
        "else:\n",
        "    print(\"Grade: F\")"
      ],
      "id": "nFtDXurfqSoN"
    },
    {
      "cell_type": "markdown",
      "metadata": {
        "id": "wq6tSR6TqSoN"
      },
      "source": [
        "\n",
        "## 🔢 Range Function\n",
        "\n",
        "**What it is**  \n",
        "`range()` generates a sequence of numbers, commonly used in loops.  \n",
        "\n",
        "**Why / When to use**  \n",
        "- To repeat something a fixed number of times  \n",
        "- To create sequences of numbers without writing them manually  \n",
        "\n",
        "**Key properties**  \n",
        "- `range(stop)` → 0 to stop-1  \n",
        "- `range(start, stop)` → from start to stop-1  \n",
        "- `range(start, stop, step)` → with custom increment (step can be negative)  \n",
        "- Efficient: doesn’t store all numbers in memory at once  \n"
      ],
      "id": "wq6tSR6TqSoN"
    },
    {
      "cell_type": "code",
      "metadata": {
        "id": "WbXScupSqSoO"
      },
      "execution_count": null,
      "outputs": [],
      "source": [
        "# range(stop): start at 0, go up to (but not including) stop\n",
        "for i in range(5):  # 0,1,2,3,4\n",
        "    print(i, end=\" \")\n",
        "print()"
      ],
      "id": "WbXScupSqSoO"
    },
    {
      "cell_type": "code",
      "metadata": {
        "id": "srXM6fUuqSoO"
      },
      "execution_count": null,
      "outputs": [],
      "source": [
        "# range(start, stop)\n",
        "for i in range(2, 7):  # 2,3,4,5,6\n",
        "    print(i, end=\" \")\n",
        "print()"
      ],
      "id": "srXM6fUuqSoO"
    },
    {
      "cell_type": "code",
      "metadata": {
        "id": "Yi2lBSl1qSoO"
      },
      "execution_count": null,
      "outputs": [],
      "source": [
        "# range(start, stop, step)\n",
        "for i in range(10, 0, -2):  # 10,8,6,4,2\n",
        "    print(i, end=\" \")\n",
        "print()"
      ],
      "id": "Yi2lBSl1qSoO"
    },
    {
      "cell_type": "code",
      "metadata": {
        "id": "SEtwyYyBqSoO"
      },
      "execution_count": null,
      "outputs": [],
      "source": [
        "# Using range() with len() to iterate indices of a list\n",
        "items = [\"apple\", \"banana\", \"cherry\"]\n",
        "for idx in range(len(items)):\n",
        "    print(idx, \"->\", items[idx])"
      ],
      "id": "SEtwyYyBqSoO"
    },
    {
      "cell_type": "code",
      "metadata": {
        "id": "LKGTbq5lqSoO"
      },
      "execution_count": null,
      "outputs": [],
      "source": [
        "# Converting range to a list (useful for quick inspection)\n",
        "nums = list(range(0, 10, 3))\n",
        "print(nums)  # [0, 3, 6, 9]"
      ],
      "id": "LKGTbq5lqSoO"
    },
    {
      "cell_type": "markdown",
      "metadata": {
        "id": "BihaovISqSoO"
      },
      "source": [
        "## 🔁 for Loop\n",
        "\n",
        "**What it is**  \n",
        "A `for` loop iterates over a **sequence** (list, string, tuple, range, etc.).  \n",
        "\n",
        "**Why / When to use**  \n",
        "- To process each element in a collection  \n",
        "- To repeat an action a known number of times  \n",
        "\n",
        "**Key properties**  \n",
        "- Works with any iterable object  \n",
        "- Gives each element one at a time  \n",
        "- Can be nested inside another `for`  "
      ],
      "id": "BihaovISqSoO"
    },
    {
      "cell_type": "code",
      "metadata": {
        "id": "RT3q4AD1qSoP"
      },
      "execution_count": null,
      "outputs": [],
      "source": [
        "# Iterate over a list\n",
        "fruits = [\"apple\", \"banana\", \"cherry\"]\n",
        "for fruit in fruits:\n",
        "    print(\"I like\", fruit)"
      ],
      "id": "RT3q4AD1qSoP"
    },
    {
      "cell_type": "code",
      "metadata": {
        "id": "pDfjUUTBqSoP"
      },
      "execution_count": null,
      "outputs": [],
      "source": [
        "# Iterate over a string (character by character)\n",
        "text = \"Hi!\"\n",
        "for ch in text:\n",
        "    print(ch)"
      ],
      "id": "pDfjUUTBqSoP"
    },
    {
      "cell_type": "code",
      "metadata": {
        "id": "HlDuKfX7qSoP"
      },
      "execution_count": null,
      "outputs": [],
      "source": [
        "# Iterate with index and value using enumerate()\n",
        "colors = [\"red\", \"green\", \"blue\"]\n",
        "for index, color in enumerate(colors):  # enumerate gives (index, value)\n",
        "    print(index, \"->\", color)"
      ],
      "id": "HlDuKfX7qSoP"
    },
    {
      "cell_type": "code",
      "metadata": {
        "id": "7rhxpgw7qSoP"
      },
      "execution_count": null,
      "outputs": [],
      "source": [
        "# Nested loops example (rows and columns)\n",
        "for row in range(1, 4):       # rows 1..3\n",
        "    for col in range(1, 4):   # cols 1..3\n",
        "        print(f\"({row},{col})\", end=\" \")\n",
        "    print()  # newline after each row"
      ],
      "id": "7rhxpgw7qSoP"
    },
    {
      "cell_type": "markdown",
      "metadata": {
        "id": "QISyouk_qSoP"
      },
      "source": [
        "## 🔄 while Loop\n",
        "\n",
        "**What it is**  \n",
        "A `while` loop runs **as long as a condition is true**.  \n",
        "\n",
        "**Why / When to use**  \n",
        "- To repeat until a certain condition changes  \n",
        "- When you don’t know in advance how many times the loop should run  \n",
        "\n",
        "**Key properties**  \n",
        "- Checks the condition before each iteration  \n",
        "- Must eventually make the condition false, or you’ll get an infinite loop  "
      ],
      "id": "QISyouk_qSoP"
    },
    {
      "cell_type": "code",
      "metadata": {
        "id": "32wX-kcYqSoP"
      },
      "execution_count": null,
      "outputs": [],
      "source": [
        "# Basic while\n",
        "count = 1\n",
        "while count <= 5:  # loop runs while condition is True\n",
        "    print(\"count is\", count)\n",
        "    count += 1  # update to move toward stopping"
      ],
      "id": "32wX-kcYqSoP"
    },
    {
      "cell_type": "code",
      "metadata": {
        "id": "yr-N7OFAqSoP"
      },
      "execution_count": null,
      "outputs": [],
      "source": [
        "# Using while for input validation (simulated here for non-interactive demo)\n",
        "# In a real program, you'd get input() from the user. We'll simulate with a list.\n",
        "\n",
        "inputs = [\"-1\", \"0\", \"3\"]  # pretend the user typed these in order\n",
        "i = 0\n",
        "n = int(inputs[i])\n",
        "while n <= 0:\n",
        "    print(\"Please enter a positive number.\")\n",
        "    i += 1\n",
        "    n = int(inputs[i])\n",
        "print(\"Thanks! You entered:\", n)"
      ],
      "id": "yr-N7OFAqSoP"
    },
    {
      "cell_type": "markdown",
      "metadata": {
        "id": "hetGANvaqSoP"
      },
      "source": [
        "## ⏹️ break and continue\n",
        "\n",
        "**What it is**  \n",
        "- `break` → immediately **exits** the nearest loop  \n",
        "- `continue` → **skips** the rest of the current iteration and moves to the next one  \n",
        "\n",
        "**Why / When to use**  \n",
        "- To stop a loop when a condition is met (`break`)  \n",
        "- To skip processing some values but continue the loop (`continue`)  "
      ],
      "id": "hetGANvaqSoP"
    },
    {
      "cell_type": "code",
      "metadata": {
        "id": "7huWLv9oqSoP"
      },
      "execution_count": null,
      "outputs": [],
      "source": [
        "# break example: stop when we find the target\n",
        "nums = [2, 4, 7, 9, 11]\n",
        "target = 9\n",
        "for n in nums:\n",
        "    if n == target:\n",
        "        print(\"Found\", target, \"— breaking out of the loop.\")\n",
        "        break\n",
        "    print(\"Checked\", n)"
      ],
      "id": "7huWLv9oqSoP"
    },
    {
      "cell_type": "code",
      "metadata": {
        "id": "Pf_Orz4nqSoQ"
      },
      "execution_count": null,
      "outputs": [],
      "source": [
        "# continue example: skip odd numbers\n",
        "for n in range(1, 8):\n",
        "    if n % 2 != 0:\n",
        "        continue  # skip the rest for odd n\n",
        "    print(\"Even:\", n)"
      ],
      "id": "Pf_Orz4nqSoQ"
    },
    {
      "cell_type": "markdown",
      "metadata": {
        "id": "n7XScJSOqSoQ"
      },
      "source": [
        "## pass Statement\n",
        "\n",
        "**What it is**  \n",
        "`pass` is a **do-nothing placeholder**.  \n",
        "\n",
        "**Why / When to use**  \n",
        "- When you need a statement syntactically, but don’t want it to do anything (yet)  \n",
        "- Useful for stubs or empty blocks while developing  \n",
        "\n",
        "**Key properties**  \n",
        "- Doesn’t change flow of the program  \n",
        "- Keeps code valid when a block is required  "
      ],
      "id": "n7XScJSOqSoQ"
    },
    {
      "cell_type": "code",
      "metadata": {
        "id": "Ly-AeEvXqSoQ"
      },
      "execution_count": null,
      "outputs": [],
      "source": [
        "# Example: placeholder for future logic\n",
        "for n in range(3):\n",
        "    if n == 1:\n",
        "        pass  # TODO: handle n == 1 later\n",
        "    else:\n",
        "        print(\"Processing:\", n)\n",
        "\n",
        "def todo_feature():\n",
        "    pass  # We'll implement this function in the future\n"
      ],
      "id": "Ly-AeEvXqSoQ"
    }
  ],
  "metadata": {
    "kernelspec": {
      "display_name": "Python 3",
      "language": "python",
      "name": "python3"
    },
    "language_info": {
      "name": "python",
      "version": "3",
      "mimetype": "text/x-python",
      "codemirror_mode": {
        "name": "ipython",
        "version": 3
      },
      "pygments_lexer": "ipython3",
      "nbconvert_exporter": "python",
      "file_extension": ".py"
    },
    "created": "2025-08-29T16:28:28.557194Z",
    "colab": {
      "provenance": []
    }
  },
  "nbformat": 4,
  "nbformat_minor": 5
}